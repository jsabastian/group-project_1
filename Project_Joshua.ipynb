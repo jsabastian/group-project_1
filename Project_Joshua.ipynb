{
 "cells": [
  {
   "cell_type": "code",
   "execution_count": 31,
   "metadata": {},
   "outputs": [],
   "source": [
    "# import dependencies\n",
    "import pandas as pd\n",
    "import os\n",
    "import csv\n",
    "import matplotlib.pyplot as plt\n",
    "import numpy as np\n",
    "import scipy.stats as st"
   ]
  },
  {
   "cell_type": "code",
   "execution_count": 32,
   "metadata": {},
   "outputs": [],
   "source": [
    "# bring in csv files\n",
    "\n",
    "suicide = os.path.join(\"Resources\",\"Suidice_Rate_Data\",\"cleaned_data.csv\")\n",
    "\n",
    "happiness = os.path.join(\"Resources\",\"Happiness_Data\",\"2015.csv\")"
   ]
  },
  {
   "cell_type": "code",
   "execution_count": 33,
   "metadata": {},
   "outputs": [],
   "source": [
    "# convert to dataframes\n",
    "\n",
    "suicide_df = pd.read_csv(suicide)\n",
    "\n",
    "happiness_df = pd.read_csv(happiness)"
   ]
  },
  {
   "cell_type": "code",
   "execution_count": 34,
   "metadata": {},
   "outputs": [
    {
     "data": {
      "text/html": [
       "<div>\n",
       "<style scoped>\n",
       "    .dataframe tbody tr th:only-of-type {\n",
       "        vertical-align: middle;\n",
       "    }\n",
       "\n",
       "    .dataframe tbody tr th {\n",
       "        vertical-align: top;\n",
       "    }\n",
       "\n",
       "    .dataframe thead th {\n",
       "        text-align: right;\n",
       "    }\n",
       "</style>\n",
       "<table border=\"1\" class=\"dataframe\">\n",
       "  <thead>\n",
       "    <tr style=\"text-align: right;\">\n",
       "      <th></th>\n",
       "      <th>country</th>\n",
       "      <th>Population</th>\n",
       "      <th>Total Number of Suicides</th>\n",
       "      <th>Number of Suicides per 100K Population</th>\n",
       "      <th>GDP for 2015</th>\n",
       "      <th>GDP per Capita</th>\n",
       "    </tr>\n",
       "  </thead>\n",
       "  <tbody>\n",
       "    <tr>\n",
       "      <th>0</th>\n",
       "      <td>Antigua and Barbuda</td>\n",
       "      <td>91889</td>\n",
       "      <td>1</td>\n",
       "      <td>15.62</td>\n",
       "      <td>1.364863e+09</td>\n",
       "      <td>14853</td>\n",
       "    </tr>\n",
       "    <tr>\n",
       "      <th>1</th>\n",
       "      <td>Argentina</td>\n",
       "      <td>39699624</td>\n",
       "      <td>3073</td>\n",
       "      <td>112.13</td>\n",
       "      <td>5.947493e+11</td>\n",
       "      <td>14981</td>\n",
       "    </tr>\n",
       "    <tr>\n",
       "      <th>2</th>\n",
       "      <td>Armenia</td>\n",
       "      <td>2795335</td>\n",
       "      <td>74</td>\n",
       "      <td>45.28</td>\n",
       "      <td>1.055334e+10</td>\n",
       "      <td>3775</td>\n",
       "    </tr>\n",
       "    <tr>\n",
       "      <th>3</th>\n",
       "      <td>Australia</td>\n",
       "      <td>22240785</td>\n",
       "      <td>3027</td>\n",
       "      <td>154.18</td>\n",
       "      <td>1.349034e+12</td>\n",
       "      <td>60656</td>\n",
       "    </tr>\n",
       "    <tr>\n",
       "      <th>4</th>\n",
       "      <td>Austria</td>\n",
       "      <td>8219386</td>\n",
       "      <td>1251</td>\n",
       "      <td>194.62</td>\n",
       "      <td>3.820659e+11</td>\n",
       "      <td>46484</td>\n",
       "    </tr>\n",
       "  </tbody>\n",
       "</table>\n",
       "</div>"
      ],
      "text/plain": [
       "               country  Population  Total Number of Suicides  \\\n",
       "0  Antigua and Barbuda       91889                         1   \n",
       "1            Argentina    39699624                      3073   \n",
       "2              Armenia     2795335                        74   \n",
       "3            Australia    22240785                      3027   \n",
       "4              Austria     8219386                      1251   \n",
       "\n",
       "   Number of Suicides per 100K Population  GDP for 2015  GDP per Capita  \n",
       "0                                   15.62  1.364863e+09           14853  \n",
       "1                                  112.13  5.947493e+11           14981  \n",
       "2                                   45.28  1.055334e+10            3775  \n",
       "3                                  154.18  1.349034e+12           60656  \n",
       "4                                  194.62  3.820659e+11           46484  "
      ]
     },
     "execution_count": 34,
     "metadata": {},
     "output_type": "execute_result"
    }
   ],
   "source": [
    "suicide_df.head()"
   ]
  },
  {
   "cell_type": "code",
   "execution_count": 35,
   "metadata": {},
   "outputs": [
    {
     "data": {
      "text/html": [
       "<div>\n",
       "<style scoped>\n",
       "    .dataframe tbody tr th:only-of-type {\n",
       "        vertical-align: middle;\n",
       "    }\n",
       "\n",
       "    .dataframe tbody tr th {\n",
       "        vertical-align: top;\n",
       "    }\n",
       "\n",
       "    .dataframe thead th {\n",
       "        text-align: right;\n",
       "    }\n",
       "</style>\n",
       "<table border=\"1\" class=\"dataframe\">\n",
       "  <thead>\n",
       "    <tr style=\"text-align: right;\">\n",
       "      <th></th>\n",
       "      <th>country</th>\n",
       "      <th>region</th>\n",
       "      <th>happiness rank</th>\n",
       "    </tr>\n",
       "  </thead>\n",
       "  <tbody>\n",
       "    <tr>\n",
       "      <th>0</th>\n",
       "      <td>Switzerland</td>\n",
       "      <td>Western Europe</td>\n",
       "      <td>1</td>\n",
       "    </tr>\n",
       "    <tr>\n",
       "      <th>1</th>\n",
       "      <td>Iceland</td>\n",
       "      <td>Western Europe</td>\n",
       "      <td>2</td>\n",
       "    </tr>\n",
       "    <tr>\n",
       "      <th>2</th>\n",
       "      <td>Denmark</td>\n",
       "      <td>Western Europe</td>\n",
       "      <td>3</td>\n",
       "    </tr>\n",
       "    <tr>\n",
       "      <th>3</th>\n",
       "      <td>Norway</td>\n",
       "      <td>Western Europe</td>\n",
       "      <td>4</td>\n",
       "    </tr>\n",
       "    <tr>\n",
       "      <th>4</th>\n",
       "      <td>Canada</td>\n",
       "      <td>North America</td>\n",
       "      <td>5</td>\n",
       "    </tr>\n",
       "    <tr>\n",
       "      <th>...</th>\n",
       "      <td>...</td>\n",
       "      <td>...</td>\n",
       "      <td>...</td>\n",
       "    </tr>\n",
       "    <tr>\n",
       "      <th>153</th>\n",
       "      <td>Rwanda</td>\n",
       "      <td>Sub-Saharan Africa</td>\n",
       "      <td>154</td>\n",
       "    </tr>\n",
       "    <tr>\n",
       "      <th>154</th>\n",
       "      <td>Benin</td>\n",
       "      <td>Sub-Saharan Africa</td>\n",
       "      <td>155</td>\n",
       "    </tr>\n",
       "    <tr>\n",
       "      <th>155</th>\n",
       "      <td>Syria</td>\n",
       "      <td>Middle East and Northern Africa</td>\n",
       "      <td>156</td>\n",
       "    </tr>\n",
       "    <tr>\n",
       "      <th>156</th>\n",
       "      <td>Burundi</td>\n",
       "      <td>Sub-Saharan Africa</td>\n",
       "      <td>157</td>\n",
       "    </tr>\n",
       "    <tr>\n",
       "      <th>157</th>\n",
       "      <td>Togo</td>\n",
       "      <td>Sub-Saharan Africa</td>\n",
       "      <td>158</td>\n",
       "    </tr>\n",
       "  </tbody>\n",
       "</table>\n",
       "<p>158 rows × 3 columns</p>\n",
       "</div>"
      ],
      "text/plain": [
       "         country                           region  happiness rank\n",
       "0    Switzerland                   Western Europe               1\n",
       "1        Iceland                   Western Europe               2\n",
       "2        Denmark                   Western Europe               3\n",
       "3         Norway                   Western Europe               4\n",
       "4         Canada                    North America               5\n",
       "..           ...                              ...             ...\n",
       "153       Rwanda               Sub-Saharan Africa             154\n",
       "154        Benin               Sub-Saharan Africa             155\n",
       "155        Syria  Middle East and Northern Africa             156\n",
       "156      Burundi               Sub-Saharan Africa             157\n",
       "157         Togo               Sub-Saharan Africa             158\n",
       "\n",
       "[158 rows x 3 columns]"
      ]
     },
     "execution_count": 35,
     "metadata": {},
     "output_type": "execute_result"
    }
   ],
   "source": [
    "# remove columns from happiness data that we do not need\n",
    "\n",
    "happiness_df = happiness_df[['country','region','happiness rank']]\n",
    "happiness_df"
   ]
  },
  {
   "cell_type": "code",
   "execution_count": 36,
   "metadata": {},
   "outputs": [],
   "source": [
    "# merging our data together\n",
    "\n",
    "base_df = pd.merge(suicide_df,happiness_df, on=\"country\", how=\"left\")"
   ]
  },
  {
   "cell_type": "code",
   "execution_count": 37,
   "metadata": {},
   "outputs": [],
   "source": [
    "# sorting the DataFrame by Happiness Rank\n",
    "base_df = base_df.sort_values(by='happiness rank',ascending=True)"
   ]
  },
  {
   "cell_type": "code",
   "execution_count": 38,
   "metadata": {},
   "outputs": [],
   "source": [
    "# dropping cell values with NaN\n",
    "cleaned_base_df = base_df.dropna()"
   ]
  },
  {
   "cell_type": "code",
   "execution_count": 39,
   "metadata": {},
   "outputs": [
    {
     "data": {
      "text/html": [
       "<div>\n",
       "<style scoped>\n",
       "    .dataframe tbody tr th:only-of-type {\n",
       "        vertical-align: middle;\n",
       "    }\n",
       "\n",
       "    .dataframe tbody tr th {\n",
       "        vertical-align: top;\n",
       "    }\n",
       "\n",
       "    .dataframe thead th {\n",
       "        text-align: right;\n",
       "    }\n",
       "</style>\n",
       "<table border=\"1\" class=\"dataframe\">\n",
       "  <thead>\n",
       "    <tr style=\"text-align: right;\">\n",
       "      <th></th>\n",
       "      <th>country</th>\n",
       "      <th>Population</th>\n",
       "      <th>Total Number of Suicides</th>\n",
       "      <th>Number of Suicides per 100K Population</th>\n",
       "      <th>GDP for 2015</th>\n",
       "      <th>GDP per Capita</th>\n",
       "      <th>region</th>\n",
       "      <th>happiness rank</th>\n",
       "    </tr>\n",
       "  </thead>\n",
       "  <tbody>\n",
       "    <tr>\n",
       "      <th>54</th>\n",
       "      <td>Switzerland</td>\n",
       "      <td>7892502</td>\n",
       "      <td>1073</td>\n",
       "      <td>164.66</td>\n",
       "      <td>6.792892e+11</td>\n",
       "      <td>86068</td>\n",
       "      <td>Western Europe</td>\n",
       "      <td>1.0</td>\n",
       "    </tr>\n",
       "    <tr>\n",
       "      <th>24</th>\n",
       "      <td>Iceland</td>\n",
       "      <td>308554</td>\n",
       "      <td>40</td>\n",
       "      <td>140.65</td>\n",
       "      <td>1.694225e+10</td>\n",
       "      <td>54909</td>\n",
       "      <td>Western Europe</td>\n",
       "      <td>2.0</td>\n",
       "    </tr>\n",
       "    <tr>\n",
       "      <th>14</th>\n",
       "      <td>Denmark</td>\n",
       "      <td>5383060</td>\n",
       "      <td>564</td>\n",
       "      <td>121.42</td>\n",
       "      <td>3.012985e+11</td>\n",
       "      <td>55972</td>\n",
       "      <td>Western Europe</td>\n",
       "      <td>3.0</td>\n",
       "    </tr>\n",
       "    <tr>\n",
       "      <th>38</th>\n",
       "      <td>Norway</td>\n",
       "      <td>4882909</td>\n",
       "      <td>590</td>\n",
       "      <td>136.43</td>\n",
       "      <td>3.866631e+11</td>\n",
       "      <td>79187</td>\n",
       "      <td>Western Europe</td>\n",
       "      <td>4.0</td>\n",
       "    </tr>\n",
       "    <tr>\n",
       "      <th>17</th>\n",
       "      <td>Finland</td>\n",
       "      <td>5181797</td>\n",
       "      <td>731</td>\n",
       "      <td>161.19</td>\n",
       "      <td>2.324648e+11</td>\n",
       "      <td>44862</td>\n",
       "      <td>Western Europe</td>\n",
       "      <td>6.0</td>\n",
       "    </tr>\n",
       "    <tr>\n",
       "      <th>36</th>\n",
       "      <td>Netherlands</td>\n",
       "      <td>16057342</td>\n",
       "      <td>1873</td>\n",
       "      <td>126.93</td>\n",
       "      <td>7.579995e+11</td>\n",
       "      <td>47206</td>\n",
       "      <td>Western Europe</td>\n",
       "      <td>7.0</td>\n",
       "    </tr>\n",
       "    <tr>\n",
       "      <th>53</th>\n",
       "      <td>Sweden</td>\n",
       "      <td>9114524</td>\n",
       "      <td>1182</td>\n",
       "      <td>149.30</td>\n",
       "      <td>4.979181e+11</td>\n",
       "      <td>54629</td>\n",
       "      <td>Western Europe</td>\n",
       "      <td>8.0</td>\n",
       "    </tr>\n",
       "    <tr>\n",
       "      <th>3</th>\n",
       "      <td>Australia</td>\n",
       "      <td>22240785</td>\n",
       "      <td>3027</td>\n",
       "      <td>154.18</td>\n",
       "      <td>1.349034e+12</td>\n",
       "      <td>60656</td>\n",
       "      <td>Australia and New Zealand</td>\n",
       "      <td>10.0</td>\n",
       "    </tr>\n",
       "    <tr>\n",
       "      <th>25</th>\n",
       "      <td>Israel</td>\n",
       "      <td>7516180</td>\n",
       "      <td>342</td>\n",
       "      <td>65.91</td>\n",
       "      <td>2.990938e+11</td>\n",
       "      <td>39793</td>\n",
       "      <td>Middle East and Northern Africa</td>\n",
       "      <td>11.0</td>\n",
       "    </tr>\n",
       "    <tr>\n",
       "      <th>4</th>\n",
       "      <td>Austria</td>\n",
       "      <td>8219386</td>\n",
       "      <td>1251</td>\n",
       "      <td>194.62</td>\n",
       "      <td>3.820659e+11</td>\n",
       "      <td>46484</td>\n",
       "      <td>Western Europe</td>\n",
       "      <td>13.0</td>\n",
       "    </tr>\n",
       "    <tr>\n",
       "      <th>35</th>\n",
       "      <td>Mexico</td>\n",
       "      <td>114357884</td>\n",
       "      <td>6234</td>\n",
       "      <td>66.57</td>\n",
       "      <td>1.169623e+12</td>\n",
       "      <td>10228</td>\n",
       "      <td>Latin America and Caribbean</td>\n",
       "      <td>14.0</td>\n",
       "    </tr>\n",
       "    <tr>\n",
       "      <th>60</th>\n",
       "      <td>United States</td>\n",
       "      <td>300078511</td>\n",
       "      <td>44189</td>\n",
       "      <td>175.41</td>\n",
       "      <td>1.812071e+13</td>\n",
       "      <td>60387</td>\n",
       "      <td>North America</td>\n",
       "      <td>15.0</td>\n",
       "    </tr>\n",
       "    <tr>\n",
       "      <th>7</th>\n",
       "      <td>Brazil</td>\n",
       "      <td>191087085</td>\n",
       "      <td>11163</td>\n",
       "      <td>77.45</td>\n",
       "      <td>1.802214e+12</td>\n",
       "      <td>9431</td>\n",
       "      <td>Latin America and Caribbean</td>\n",
       "      <td>16.0</td>\n",
       "    </tr>\n",
       "    <tr>\n",
       "      <th>32</th>\n",
       "      <td>Luxembourg</td>\n",
       "      <td>537748</td>\n",
       "      <td>64</td>\n",
       "      <td>134.40</td>\n",
       "      <td>5.778450e+10</td>\n",
       "      <td>107456</td>\n",
       "      <td>Western Europe</td>\n",
       "      <td>17.0</td>\n",
       "    </tr>\n",
       "    <tr>\n",
       "      <th>5</th>\n",
       "      <td>Belgium</td>\n",
       "      <td>10624356</td>\n",
       "      <td>1867</td>\n",
       "      <td>196.66</td>\n",
       "      <td>4.550396e+11</td>\n",
       "      <td>42830</td>\n",
       "      <td>Western Europe</td>\n",
       "      <td>19.0</td>\n",
       "    </tr>\n",
       "    <tr>\n",
       "      <th>59</th>\n",
       "      <td>United Kingdom</td>\n",
       "      <td>61082942</td>\n",
       "      <td>4910</td>\n",
       "      <td>86.74</td>\n",
       "      <td>2.885570e+12</td>\n",
       "      <td>47240</td>\n",
       "      <td>Western Europe</td>\n",
       "      <td>21.0</td>\n",
       "    </tr>\n",
       "    <tr>\n",
       "      <th>49</th>\n",
       "      <td>Singapore</td>\n",
       "      <td>3719115</td>\n",
       "      <td>329</td>\n",
       "      <td>109.29</td>\n",
       "      <td>3.040978e+11</td>\n",
       "      <td>81766</td>\n",
       "      <td>Southeastern Asia</td>\n",
       "      <td>24.0</td>\n",
       "    </tr>\n",
       "    <tr>\n",
       "      <th>39</th>\n",
       "      <td>Panama</td>\n",
       "      <td>3583382</td>\n",
       "      <td>110</td>\n",
       "      <td>44.90</td>\n",
       "      <td>5.431572e+10</td>\n",
       "      <td>15158</td>\n",
       "      <td>Latin America and Caribbean</td>\n",
       "      <td>25.0</td>\n",
       "    </tr>\n",
       "    <tr>\n",
       "      <th>19</th>\n",
       "      <td>Germany</td>\n",
       "      <td>78136683</td>\n",
       "      <td>10088</td>\n",
       "      <td>150.34</td>\n",
       "      <td>3.375611e+12</td>\n",
       "      <td>43201</td>\n",
       "      <td>Western Europe</td>\n",
       "      <td>26.0</td>\n",
       "    </tr>\n",
       "    <tr>\n",
       "      <th>8</th>\n",
       "      <td>Chile</td>\n",
       "      <td>16565725</td>\n",
       "      <td>1838</td>\n",
       "      <td>147.68</td>\n",
       "      <td>2.439995e+11</td>\n",
       "      <td>14729</td>\n",
       "      <td>Latin America and Caribbean</td>\n",
       "      <td>27.0</td>\n",
       "    </tr>\n",
       "    <tr>\n",
       "      <th>42</th>\n",
       "      <td>Qatar</td>\n",
       "      <td>2354147</td>\n",
       "      <td>66</td>\n",
       "      <td>18.84</td>\n",
       "      <td>1.646415e+11</td>\n",
       "      <td>69937</td>\n",
       "      <td>Middle East and Northern Africa</td>\n",
       "      <td>28.0</td>\n",
       "    </tr>\n",
       "    <tr>\n",
       "      <th>1</th>\n",
       "      <td>Argentina</td>\n",
       "      <td>39699624</td>\n",
       "      <td>3073</td>\n",
       "      <td>112.13</td>\n",
       "      <td>5.947493e+11</td>\n",
       "      <td>14981</td>\n",
       "      <td>Latin America and Caribbean</td>\n",
       "      <td>30.0</td>\n",
       "    </tr>\n",
       "    <tr>\n",
       "      <th>13</th>\n",
       "      <td>Czech Republic</td>\n",
       "      <td>9989325</td>\n",
       "      <td>1387</td>\n",
       "      <td>170.87</td>\n",
       "      <td>1.868299e+11</td>\n",
       "      <td>18703</td>\n",
       "      <td>Central and Eastern Europe</td>\n",
       "      <td>31.0</td>\n",
       "    </tr>\n",
       "    <tr>\n",
       "      <th>61</th>\n",
       "      <td>Uruguay</td>\n",
       "      <td>3190795</td>\n",
       "      <td>630</td>\n",
       "      <td>270.02</td>\n",
       "      <td>5.327430e+10</td>\n",
       "      <td>16696</td>\n",
       "      <td>Latin America and Caribbean</td>\n",
       "      <td>32.0</td>\n",
       "    </tr>\n",
       "    <tr>\n",
       "      <th>9</th>\n",
       "      <td>Colombia</td>\n",
       "      <td>44490427</td>\n",
       "      <td>2332</td>\n",
       "      <td>70.40</td>\n",
       "      <td>2.915196e+11</td>\n",
       "      <td>6552</td>\n",
       "      <td>Latin America and Caribbean</td>\n",
       "      <td>33.0</td>\n",
       "    </tr>\n",
       "    <tr>\n",
       "      <th>55</th>\n",
       "      <td>Thailand</td>\n",
       "      <td>61261276</td>\n",
       "      <td>4205</td>\n",
       "      <td>81.15</td>\n",
       "      <td>4.013994e+11</td>\n",
       "      <td>6552</td>\n",
       "      <td>Southeastern Asia</td>\n",
       "      <td>34.0</td>\n",
       "    </tr>\n",
       "    <tr>\n",
       "      <th>52</th>\n",
       "      <td>Spain</td>\n",
       "      <td>44186528</td>\n",
       "      <td>3604</td>\n",
       "      <td>97.38</td>\n",
       "      <td>1.197790e+12</td>\n",
       "      <td>27108</td>\n",
       "      <td>Western Europe</td>\n",
       "      <td>36.0</td>\n",
       "    </tr>\n",
       "    <tr>\n",
       "      <th>33</th>\n",
       "      <td>Malta</td>\n",
       "      <td>410637</td>\n",
       "      <td>34</td>\n",
       "      <td>78.27</td>\n",
       "      <td>1.057403e+10</td>\n",
       "      <td>25750</td>\n",
       "      <td>Western Europe</td>\n",
       "      <td>37.0</td>\n",
       "    </tr>\n",
       "    <tr>\n",
       "      <th>22</th>\n",
       "      <td>Guatemala</td>\n",
       "      <td>14258397</td>\n",
       "      <td>494</td>\n",
       "      <td>44.85</td>\n",
       "      <td>6.376760e+10</td>\n",
       "      <td>4472</td>\n",
       "      <td>Latin America and Caribbean</td>\n",
       "      <td>43.0</td>\n",
       "    </tr>\n",
       "    <tr>\n",
       "      <th>27</th>\n",
       "      <td>Japan</td>\n",
       "      <td>120376310</td>\n",
       "      <td>23092</td>\n",
       "      <td>206.04</td>\n",
       "      <td>4.394978e+12</td>\n",
       "      <td>36510</td>\n",
       "      <td>Eastern Asia</td>\n",
       "      <td>46.0</td>\n",
       "    </tr>\n",
       "    <tr>\n",
       "      <th>15</th>\n",
       "      <td>Ecuador</td>\n",
       "      <td>14534024</td>\n",
       "      <td>1073</td>\n",
       "      <td>97.39</td>\n",
       "      <td>9.929038e+10</td>\n",
       "      <td>6832</td>\n",
       "      <td>Latin America and Caribbean</td>\n",
       "      <td>48.0</td>\n",
       "    </tr>\n",
       "    <tr>\n",
       "      <th>26</th>\n",
       "      <td>Italy</td>\n",
       "      <td>58117697</td>\n",
       "      <td>3988</td>\n",
       "      <td>78.45</td>\n",
       "      <td>1.832868e+12</td>\n",
       "      <td>31537</td>\n",
       "      <td>Western Europe</td>\n",
       "      <td>50.0</td>\n",
       "    </tr>\n",
       "    <tr>\n",
       "      <th>28</th>\n",
       "      <td>Kazakhstan</td>\n",
       "      <td>15646752</td>\n",
       "      <td>2872</td>\n",
       "      <td>238.02</td>\n",
       "      <td>1.843884e+11</td>\n",
       "      <td>11784</td>\n",
       "      <td>Central and Eastern Europe</td>\n",
       "      <td>54.0</td>\n",
       "    </tr>\n",
       "    <tr>\n",
       "      <th>50</th>\n",
       "      <td>Slovenia</td>\n",
       "      <td>1954632</td>\n",
       "      <td>422</td>\n",
       "      <td>264.81</td>\n",
       "      <td>4.307242e+10</td>\n",
       "      <td>22036</td>\n",
       "      <td>Central and Eastern Europe</td>\n",
       "      <td>55.0</td>\n",
       "    </tr>\n",
       "    <tr>\n",
       "      <th>31</th>\n",
       "      <td>Lithuania</td>\n",
       "      <td>2753926</td>\n",
       "      <td>896</td>\n",
       "      <td>385.48</td>\n",
       "      <td>4.150861e+10</td>\n",
       "      <td>15073</td>\n",
       "      <td>Central and Eastern Europe</td>\n",
       "      <td>56.0</td>\n",
       "    </tr>\n",
       "    <tr>\n",
       "      <th>37</th>\n",
       "      <td>Nicaragua</td>\n",
       "      <td>5476483</td>\n",
       "      <td>315</td>\n",
       "      <td>69.87</td>\n",
       "      <td>1.261109e+10</td>\n",
       "      <td>2303</td>\n",
       "      <td>Latin America and Caribbean</td>\n",
       "      <td>57.0</td>\n",
       "    </tr>\n",
       "    <tr>\n",
       "      <th>40</th>\n",
       "      <td>Poland</td>\n",
       "      <td>36086575</td>\n",
       "      <td>5420</td>\n",
       "      <td>166.99</td>\n",
       "      <td>4.773556e+11</td>\n",
       "      <td>13228</td>\n",
       "      <td>Central and Eastern Europe</td>\n",
       "      <td>60.0</td>\n",
       "    </tr>\n",
       "    <tr>\n",
       "      <th>10</th>\n",
       "      <td>Croatia</td>\n",
       "      <td>4001669</td>\n",
       "      <td>739</td>\n",
       "      <td>229.68</td>\n",
       "      <td>4.942551e+10</td>\n",
       "      <td>12351</td>\n",
       "      <td>Central and Eastern Europe</td>\n",
       "      <td>62.0</td>\n",
       "    </tr>\n",
       "    <tr>\n",
       "      <th>12</th>\n",
       "      <td>Cyprus</td>\n",
       "      <td>796037</td>\n",
       "      <td>40</td>\n",
       "      <td>49.59</td>\n",
       "      <td>1.967617e+10</td>\n",
       "      <td>24718</td>\n",
       "      <td>Western Europe</td>\n",
       "      <td>67.0</td>\n",
       "    </tr>\n",
       "    <tr>\n",
       "      <th>57</th>\n",
       "      <td>Turkmenistan</td>\n",
       "      <td>4886514</td>\n",
       "      <td>133</td>\n",
       "      <td>28.48</td>\n",
       "      <td>3.579963e+10</td>\n",
       "      <td>7326</td>\n",
       "      <td>Central and Eastern Europe</td>\n",
       "      <td>70.0</td>\n",
       "    </tr>\n",
       "    <tr>\n",
       "      <th>34</th>\n",
       "      <td>Mauritius</td>\n",
       "      <td>1154848</td>\n",
       "      <td>104</td>\n",
       "      <td>99.97</td>\n",
       "      <td>1.169229e+10</td>\n",
       "      <td>10125</td>\n",
       "      <td>Sub-Saharan Africa</td>\n",
       "      <td>71.0</td>\n",
       "    </tr>\n",
       "    <tr>\n",
       "      <th>16</th>\n",
       "      <td>Estonia</td>\n",
       "      <td>1243450</td>\n",
       "      <td>195</td>\n",
       "      <td>205.38</td>\n",
       "      <td>2.256696e+10</td>\n",
       "      <td>18149</td>\n",
       "      <td>Central and Eastern Europe</td>\n",
       "      <td>73.0</td>\n",
       "    </tr>\n",
       "    <tr>\n",
       "      <th>56</th>\n",
       "      <td>Turkey</td>\n",
       "      <td>71880464</td>\n",
       "      <td>1532</td>\n",
       "      <td>28.47</td>\n",
       "      <td>8.597969e+11</td>\n",
       "      <td>11961</td>\n",
       "      <td>Middle East and Northern Africa</td>\n",
       "      <td>76.0</td>\n",
       "    </tr>\n",
       "    <tr>\n",
       "      <th>29</th>\n",
       "      <td>Kyrgyzstan</td>\n",
       "      <td>5195827</td>\n",
       "      <td>417</td>\n",
       "      <td>98.37</td>\n",
       "      <td>6.678178e+09</td>\n",
       "      <td>1285</td>\n",
       "      <td>Central and Eastern Europe</td>\n",
       "      <td>77.0</td>\n",
       "    </tr>\n",
       "    <tr>\n",
       "      <th>44</th>\n",
       "      <td>Romania</td>\n",
       "      <td>18863927</td>\n",
       "      <td>2228</td>\n",
       "      <td>133.55</td>\n",
       "      <td>1.779111e+11</td>\n",
       "      <td>9431</td>\n",
       "      <td>Central and Eastern Europe</td>\n",
       "      <td>86.0</td>\n",
       "    </tr>\n",
       "    <tr>\n",
       "      <th>47</th>\n",
       "      <td>Serbia</td>\n",
       "      <td>6766406</td>\n",
       "      <td>1062</td>\n",
       "      <td>205.97</td>\n",
       "      <td>3.716033e+10</td>\n",
       "      <td>5492</td>\n",
       "      <td>Central and Eastern Europe</td>\n",
       "      <td>87.0</td>\n",
       "    </tr>\n",
       "    <tr>\n",
       "      <th>30</th>\n",
       "      <td>Latvia</td>\n",
       "      <td>1875522</td>\n",
       "      <td>387</td>\n",
       "      <td>251.47</td>\n",
       "      <td>2.697286e+10</td>\n",
       "      <td>14382</td>\n",
       "      <td>Central and Eastern Europe</td>\n",
       "      <td>89.0</td>\n",
       "    </tr>\n",
       "    <tr>\n",
       "      <th>20</th>\n",
       "      <td>Greece</td>\n",
       "      <td>10331286</td>\n",
       "      <td>529</td>\n",
       "      <td>56.06</td>\n",
       "      <td>1.955418e+11</td>\n",
       "      <td>18927</td>\n",
       "      <td>Western Europe</td>\n",
       "      <td>102.0</td>\n",
       "    </tr>\n",
       "    <tr>\n",
       "      <th>23</th>\n",
       "      <td>Hungary</td>\n",
       "      <td>9389519</td>\n",
       "      <td>1868</td>\n",
       "      <td>257.27</td>\n",
       "      <td>1.228790e+11</td>\n",
       "      <td>13087</td>\n",
       "      <td>Central and Eastern Europe</td>\n",
       "      <td>104.0</td>\n",
       "    </tr>\n",
       "    <tr>\n",
       "      <th>58</th>\n",
       "      <td>Ukraine</td>\n",
       "      <td>40345446</td>\n",
       "      <td>7574</td>\n",
       "      <td>244.72</td>\n",
       "      <td>9.103096e+10</td>\n",
       "      <td>2256</td>\n",
       "      <td>Central and Eastern Europe</td>\n",
       "      <td>111.0</td>\n",
       "    </tr>\n",
       "    <tr>\n",
       "      <th>51</th>\n",
       "      <td>South Africa</td>\n",
       "      <td>49627460</td>\n",
       "      <td>482</td>\n",
       "      <td>13.00</td>\n",
       "      <td>3.177410e+11</td>\n",
       "      <td>6403</td>\n",
       "      <td>Sub-Saharan Africa</td>\n",
       "      <td>113.0</td>\n",
       "    </tr>\n",
       "    <tr>\n",
       "      <th>2</th>\n",
       "      <td>Armenia</td>\n",
       "      <td>2795335</td>\n",
       "      <td>74</td>\n",
       "      <td>45.28</td>\n",
       "      <td>1.055334e+10</td>\n",
       "      <td>3775</td>\n",
       "      <td>Central and Eastern Europe</td>\n",
       "      <td>127.0</td>\n",
       "    </tr>\n",
       "    <tr>\n",
       "      <th>18</th>\n",
       "      <td>Georgia</td>\n",
       "      <td>3458400</td>\n",
       "      <td>192</td>\n",
       "      <td>84.68</td>\n",
       "      <td>1.399355e+10</td>\n",
       "      <td>4046</td>\n",
       "      <td>Central and Eastern Europe</td>\n",
       "      <td>130.0</td>\n",
       "    </tr>\n",
       "  </tbody>\n",
       "</table>\n",
       "</div>"
      ],
      "text/plain": [
       "           country  Population  Total Number of Suicides  \\\n",
       "54     Switzerland     7892502                      1073   \n",
       "24         Iceland      308554                        40   \n",
       "14         Denmark     5383060                       564   \n",
       "38          Norway     4882909                       590   \n",
       "17         Finland     5181797                       731   \n",
       "36     Netherlands    16057342                      1873   \n",
       "53          Sweden     9114524                      1182   \n",
       "3        Australia    22240785                      3027   \n",
       "25          Israel     7516180                       342   \n",
       "4          Austria     8219386                      1251   \n",
       "35          Mexico   114357884                      6234   \n",
       "60   United States   300078511                     44189   \n",
       "7           Brazil   191087085                     11163   \n",
       "32      Luxembourg      537748                        64   \n",
       "5          Belgium    10624356                      1867   \n",
       "59  United Kingdom    61082942                      4910   \n",
       "49       Singapore     3719115                       329   \n",
       "39          Panama     3583382                       110   \n",
       "19         Germany    78136683                     10088   \n",
       "8            Chile    16565725                      1838   \n",
       "42           Qatar     2354147                        66   \n",
       "1        Argentina    39699624                      3073   \n",
       "13  Czech Republic     9989325                      1387   \n",
       "61         Uruguay     3190795                       630   \n",
       "9         Colombia    44490427                      2332   \n",
       "55        Thailand    61261276                      4205   \n",
       "52           Spain    44186528                      3604   \n",
       "33           Malta      410637                        34   \n",
       "22       Guatemala    14258397                       494   \n",
       "27           Japan   120376310                     23092   \n",
       "15         Ecuador    14534024                      1073   \n",
       "26           Italy    58117697                      3988   \n",
       "28      Kazakhstan    15646752                      2872   \n",
       "50        Slovenia     1954632                       422   \n",
       "31       Lithuania     2753926                       896   \n",
       "37       Nicaragua     5476483                       315   \n",
       "40          Poland    36086575                      5420   \n",
       "10         Croatia     4001669                       739   \n",
       "12          Cyprus      796037                        40   \n",
       "57    Turkmenistan     4886514                       133   \n",
       "34       Mauritius     1154848                       104   \n",
       "16         Estonia     1243450                       195   \n",
       "56          Turkey    71880464                      1532   \n",
       "29      Kyrgyzstan     5195827                       417   \n",
       "44         Romania    18863927                      2228   \n",
       "47          Serbia     6766406                      1062   \n",
       "30          Latvia     1875522                       387   \n",
       "20          Greece    10331286                       529   \n",
       "23         Hungary     9389519                      1868   \n",
       "58         Ukraine    40345446                      7574   \n",
       "51    South Africa    49627460                       482   \n",
       "2          Armenia     2795335                        74   \n",
       "18         Georgia     3458400                       192   \n",
       "\n",
       "    Number of Suicides per 100K Population  GDP for 2015  GDP per Capita  \\\n",
       "54                                  164.66  6.792892e+11           86068   \n",
       "24                                  140.65  1.694225e+10           54909   \n",
       "14                                  121.42  3.012985e+11           55972   \n",
       "38                                  136.43  3.866631e+11           79187   \n",
       "17                                  161.19  2.324648e+11           44862   \n",
       "36                                  126.93  7.579995e+11           47206   \n",
       "53                                  149.30  4.979181e+11           54629   \n",
       "3                                   154.18  1.349034e+12           60656   \n",
       "25                                   65.91  2.990938e+11           39793   \n",
       "4                                   194.62  3.820659e+11           46484   \n",
       "35                                   66.57  1.169623e+12           10228   \n",
       "60                                  175.41  1.812071e+13           60387   \n",
       "7                                    77.45  1.802214e+12            9431   \n",
       "32                                  134.40  5.778450e+10          107456   \n",
       "5                                   196.66  4.550396e+11           42830   \n",
       "59                                   86.74  2.885570e+12           47240   \n",
       "49                                  109.29  3.040978e+11           81766   \n",
       "39                                   44.90  5.431572e+10           15158   \n",
       "19                                  150.34  3.375611e+12           43201   \n",
       "8                                   147.68  2.439995e+11           14729   \n",
       "42                                   18.84  1.646415e+11           69937   \n",
       "1                                   112.13  5.947493e+11           14981   \n",
       "13                                  170.87  1.868299e+11           18703   \n",
       "61                                  270.02  5.327430e+10           16696   \n",
       "9                                    70.40  2.915196e+11            6552   \n",
       "55                                   81.15  4.013994e+11            6552   \n",
       "52                                   97.38  1.197790e+12           27108   \n",
       "33                                   78.27  1.057403e+10           25750   \n",
       "22                                   44.85  6.376760e+10            4472   \n",
       "27                                  206.04  4.394978e+12           36510   \n",
       "15                                   97.39  9.929038e+10            6832   \n",
       "26                                   78.45  1.832868e+12           31537   \n",
       "28                                  238.02  1.843884e+11           11784   \n",
       "50                                  264.81  4.307242e+10           22036   \n",
       "31                                  385.48  4.150861e+10           15073   \n",
       "37                                   69.87  1.261109e+10            2303   \n",
       "40                                  166.99  4.773556e+11           13228   \n",
       "10                                  229.68  4.942551e+10           12351   \n",
       "12                                   49.59  1.967617e+10           24718   \n",
       "57                                   28.48  3.579963e+10            7326   \n",
       "34                                   99.97  1.169229e+10           10125   \n",
       "16                                  205.38  2.256696e+10           18149   \n",
       "56                                   28.47  8.597969e+11           11961   \n",
       "29                                   98.37  6.678178e+09            1285   \n",
       "44                                  133.55  1.779111e+11            9431   \n",
       "47                                  205.97  3.716033e+10            5492   \n",
       "30                                  251.47  2.697286e+10           14382   \n",
       "20                                   56.06  1.955418e+11           18927   \n",
       "23                                  257.27  1.228790e+11           13087   \n",
       "58                                  244.72  9.103096e+10            2256   \n",
       "51                                   13.00  3.177410e+11            6403   \n",
       "2                                    45.28  1.055334e+10            3775   \n",
       "18                                   84.68  1.399355e+10            4046   \n",
       "\n",
       "                             region  happiness rank  \n",
       "54                   Western Europe             1.0  \n",
       "24                   Western Europe             2.0  \n",
       "14                   Western Europe             3.0  \n",
       "38                   Western Europe             4.0  \n",
       "17                   Western Europe             6.0  \n",
       "36                   Western Europe             7.0  \n",
       "53                   Western Europe             8.0  \n",
       "3         Australia and New Zealand            10.0  \n",
       "25  Middle East and Northern Africa            11.0  \n",
       "4                    Western Europe            13.0  \n",
       "35      Latin America and Caribbean            14.0  \n",
       "60                    North America            15.0  \n",
       "7       Latin America and Caribbean            16.0  \n",
       "32                   Western Europe            17.0  \n",
       "5                    Western Europe            19.0  \n",
       "59                   Western Europe            21.0  \n",
       "49                Southeastern Asia            24.0  \n",
       "39      Latin America and Caribbean            25.0  \n",
       "19                   Western Europe            26.0  \n",
       "8       Latin America and Caribbean            27.0  \n",
       "42  Middle East and Northern Africa            28.0  \n",
       "1       Latin America and Caribbean            30.0  \n",
       "13       Central and Eastern Europe            31.0  \n",
       "61      Latin America and Caribbean            32.0  \n",
       "9       Latin America and Caribbean            33.0  \n",
       "55                Southeastern Asia            34.0  \n",
       "52                   Western Europe            36.0  \n",
       "33                   Western Europe            37.0  \n",
       "22      Latin America and Caribbean            43.0  \n",
       "27                     Eastern Asia            46.0  \n",
       "15      Latin America and Caribbean            48.0  \n",
       "26                   Western Europe            50.0  \n",
       "28       Central and Eastern Europe            54.0  \n",
       "50       Central and Eastern Europe            55.0  \n",
       "31       Central and Eastern Europe            56.0  \n",
       "37      Latin America and Caribbean            57.0  \n",
       "40       Central and Eastern Europe            60.0  \n",
       "10       Central and Eastern Europe            62.0  \n",
       "12                   Western Europe            67.0  \n",
       "57       Central and Eastern Europe            70.0  \n",
       "34               Sub-Saharan Africa            71.0  \n",
       "16       Central and Eastern Europe            73.0  \n",
       "56  Middle East and Northern Africa            76.0  \n",
       "29       Central and Eastern Europe            77.0  \n",
       "44       Central and Eastern Europe            86.0  \n",
       "47       Central and Eastern Europe            87.0  \n",
       "30       Central and Eastern Europe            89.0  \n",
       "20                   Western Europe           102.0  \n",
       "23       Central and Eastern Europe           104.0  \n",
       "58       Central and Eastern Europe           111.0  \n",
       "51               Sub-Saharan Africa           113.0  \n",
       "2        Central and Eastern Europe           127.0  \n",
       "18       Central and Eastern Europe           130.0  "
      ]
     },
     "execution_count": 39,
     "metadata": {},
     "output_type": "execute_result"
    }
   ],
   "source": [
    "cleaned_base_df"
   ]
  },
  {
   "cell_type": "code",
   "execution_count": 40,
   "metadata": {},
   "outputs": [
    {
     "data": {
      "image/png": "[encoded data removed]",
      "text/plain": [
       "<Figure size 432x288 with 1 Axes>"
      ]
     },
     "metadata": {
      "needs_background": "light"
     },
     "output_type": "display_data"
    }
   ],
   "source": [
    "#Comparing Happiness Rank with Unique Suicide Data\n",
    "plt.scatter(cleaned_base_df.iloc[:,7],cleaned_base_df.iloc[:,1])\n",
    "plt.xlabel('Happiness Rank')\n",
    "plt.ylabel('Population')\n",
    "plt.show()"
   ]
  },
  {
   "cell_type": "code",
   "execution_count": 41,
   "metadata": {},
   "outputs": [
    {
     "name": "stdout",
     "output_type": "stream",
     "text": [
      "The correlation between both factors is -0.17\n"
     ]
    }
   ],
   "source": [
    "happiness = cleaned_base_df.iloc[:,7]\n",
    "population = cleaned_base_df.iloc[:,1]\n",
    "correlation = st.pearsonr(happiness,population)\n",
    "print(f\"The correlation between both factors is {round(correlation[0],2)}\")"
   ]
  },
  {
   "cell_type": "code",
   "execution_count": 14,
   "metadata": {},
   "outputs": [
    {
     "data": {
      "image/png": "[encoded data removed]",
      "text/plain": [
       "<Figure size 432x288 with 1 Axes>"
      ]
     },
     "metadata": {
      "needs_background": "light"
     },
     "output_type": "display_data"
    }
   ],
   "source": [
    "#Comparing Happiness Rank with Unique Suicide Data\n",
    "plt.scatter(cleaned_base_df.iloc[:,7],cleaned_base_df.iloc[:,2])\n",
    "plt.xlabel('Happiness Rank')\n",
    "plt.ylabel('Total Number of Suicides')\n",
    "plt.show()"
   ]
  },
  {
   "cell_type": "code",
   "execution_count": 42,
   "metadata": {},
   "outputs": [
    {
     "name": "stdout",
     "output_type": "stream",
     "text": [
      "The correlation between both factors is -0.15\n"
     ]
    }
   ],
   "source": [
    "happiness = cleaned_base_df.iloc[:,7]\n",
    "suicides = cleaned_base_df.iloc[:,2]\n",
    "correlation = st.pearsonr(happiness,suicides)\n",
    "print(f\"The correlation between both factors is {round(correlation[0],2)}\")"
   ]
  },
  {
   "cell_type": "code",
   "execution_count": 15,
   "metadata": {},
   "outputs": [
    {
     "data": {
      "image/png": "[encoded data removed]",
      "text/plain": [
       "<Figure size 432x288 with 1 Axes>"
      ]
     },
     "metadata": {
      "needs_background": "light"
     },
     "output_type": "display_data"
    }
   ],
   "source": [
    "#Comparing Happiness Rank with Unique Suicide Data\n",
    "plt.scatter(cleaned_base_df.iloc[:,7],cleaned_base_df.iloc[:,3])\n",
    "plt.xlabel('Happiness Rank')\n",
    "plt.ylabel('Number of Suicides per 100K Population')\n",
    "plt.show()"
   ]
  },
  {
   "cell_type": "code",
   "execution_count": 43,
   "metadata": {},
   "outputs": [
    {
     "name": "stdout",
     "output_type": "stream",
     "text": [
      "The correlation between both factors is 0.0\n"
     ]
    }
   ],
   "source": [
    "happiness = cleaned_base_df.iloc[:,7]\n",
    "suicides_100k = cleaned_base_df.iloc[:,3]\n",
    "correlation = st.pearsonr(happiness,suicides_100k)\n",
    "print(f\"The correlation between both factors is {round(correlation[0],2)}\")"
   ]
  },
  {
   "cell_type": "code",
   "execution_count": 16,
   "metadata": {},
   "outputs": [
    {
     "data": {
      "image/png": "[encoded data removed]",
      "text/plain": [
       "<Figure size 432x288 with 1 Axes>"
      ]
     },
     "metadata": {
      "needs_background": "light"
     },
     "output_type": "display_data"
    }
   ],
   "source": [
    "#Comparing Happiness Rank with Unique Suicide Data\n",
    "plt.scatter(cleaned_base_df.iloc[:,7],cleaned_base_df.iloc[:,4])\n",
    "plt.xlabel('Happiness Rank')\n",
    "plt.ylabel('GDP for 2015')\n",
    "plt.show()"
   ]
  },
  {
   "cell_type": "code",
   "execution_count": 44,
   "metadata": {},
   "outputs": [
    {
     "name": "stdout",
     "output_type": "stream",
     "text": [
      "The correlation between both factors is -0.2\n"
     ]
    }
   ],
   "source": [
    "happiness = cleaned_base_df.iloc[:,7]\n",
    "GDP = cleaned_base_df.iloc[:,4]\n",
    "correlation = st.pearsonr(happiness,GDP)\n",
    "print(f\"The correlation between both factors is {round(correlation[0],2)}\")"
   ]
  },
  {
   "cell_type": "code",
   "execution_count": 17,
   "metadata": {},
   "outputs": [
    {
     "data": {
      "image/png": "[encoded data removed]",
      "text/plain": [
       "<Figure size 432x288 with 1 Axes>"
      ]
     },
     "metadata": {
      "needs_background": "light"
     },
     "output_type": "display_data"
    }
   ],
   "source": [
    "#Comparing Happiness Rank with Unique Suicide Data\n",
    "plt.scatter(cleaned_base_df.iloc[:,7],cleaned_base_df.iloc[:,5])\n",
    "plt.xlabel('Happiness Rank')\n",
    "plt.ylabel('GDP per Capita')\n",
    "plt.show()"
   ]
  },
  {
   "cell_type": "code",
   "execution_count": 45,
   "metadata": {},
   "outputs": [
    {
     "name": "stdout",
     "output_type": "stream",
     "text": [
      "The correlation between both factors is -0.65\n"
     ]
    }
   ],
   "source": [
    "happiness = cleaned_base_df.iloc[:,7]\n",
    "GDP_per_capita = cleaned_base_df.iloc[:,5]\n",
    "correlation = st.pearsonr(happiness,GDP_per_capita)\n",
    "print(f\"The correlation between both factors is {round(correlation[0],2)}\")"
   ]
  },
  {
   "cell_type": "code",
   "execution_count": 18,
   "metadata": {},
   "outputs": [
    {
     "data": {
      "image/png": "[encoded data removed]",
      "text/plain": [
       "<Figure size 432x288 with 1 Axes>"
      ]
     },
     "metadata": {
      "needs_background": "light"
     },
     "output_type": "display_data"
    }
   ],
   "source": [
    "#Comparing Happiness Rank with Unique Suicide Data\n",
    "plt.scatter(cleaned_base_df.iloc[:,7],cleaned_base_df.iloc[:,6])\n",
    "plt.xlabel('Happiness Rank')\n",
    "plt.ylabel('Region')\n",
    "plt.show()"
   ]
  },
  {
   "cell_type": "code",
   "execution_count": 46,
   "metadata": {},
   "outputs": [
    {
     "ename": "UFuncTypeError",
     "evalue": "ufunc 'add' did not contain a loop with signature matching types (dtype('<U32'), dtype('<U32')) -> dtype('<U32')",
     "output_type": "error",
     "traceback": [
      "\u001b[1;31m---------------------------------------------------------------------------\u001b[0m",
      "\u001b[1;31mUFuncTypeError\u001b[0m                            Traceback (most recent call last)",
      "\u001b[1;32m<ipython-input-46-b11ef80298d7>\u001b[0m in \u001b[0;36m<module>\u001b[1;34m\u001b[0m\n\u001b[0;32m      1\u001b[0m \u001b[0mhappiness\u001b[0m \u001b[1;33m=\u001b[0m \u001b[0mcleaned_base_df\u001b[0m\u001b[1;33m.\u001b[0m\u001b[0miloc\u001b[0m\u001b[1;33m[\u001b[0m\u001b[1;33m:\u001b[0m\u001b[1;33m,\u001b[0m\u001b[1;36m7\u001b[0m\u001b[1;33m]\u001b[0m\u001b[1;33m\u001b[0m\u001b[1;33m\u001b[0m\u001b[0m\n\u001b[0;32m      2\u001b[0m \u001b[0mregion\u001b[0m \u001b[1;33m=\u001b[0m \u001b[0mcleaned_base_df\u001b[0m\u001b[1;33m.\u001b[0m\u001b[0miloc\u001b[0m\u001b[1;33m[\u001b[0m\u001b[1;33m:\u001b[0m\u001b[1;33m,\u001b[0m\u001b[1;36m6\u001b[0m\u001b[1;33m]\u001b[0m\u001b[1;33m\u001b[0m\u001b[1;33m\u001b[0m\u001b[0m\n\u001b[1;32m----> 3\u001b[1;33m \u001b[0mcorrelation\u001b[0m \u001b[1;33m=\u001b[0m \u001b[0mst\u001b[0m\u001b[1;33m.\u001b[0m\u001b[0mpearsonr\u001b[0m\u001b[1;33m(\u001b[0m\u001b[0mhappiness\u001b[0m\u001b[1;33m,\u001b[0m\u001b[0mregion\u001b[0m\u001b[1;33m)\u001b[0m\u001b[1;33m\u001b[0m\u001b[1;33m\u001b[0m\u001b[0m\n\u001b[0m\u001b[0;32m      4\u001b[0m \u001b[0mprint\u001b[0m\u001b[1;33m(\u001b[0m\u001b[1;34mf\"The correlation between both factors is {round(correlation[0],2)}\"\u001b[0m\u001b[1;33m)\u001b[0m\u001b[1;33m\u001b[0m\u001b[1;33m\u001b[0m\u001b[0m\n",
      "\u001b[1;32m~\\Anaconda3\\lib\\site-packages\\scipy\\stats\\stats.py\u001b[0m in \u001b[0;36mpearsonr\u001b[1;34m(x, y)\u001b[0m\n\u001b[0;32m   3512\u001b[0m     \u001b[1;31m# that the data type is at least 64 bit floating point.  It might have\u001b[0m\u001b[1;33m\u001b[0m\u001b[1;33m\u001b[0m\u001b[1;33m\u001b[0m\u001b[0m\n\u001b[0;32m   3513\u001b[0m     \u001b[1;31m# more precision if the input is, for example, np.longdouble.\u001b[0m\u001b[1;33m\u001b[0m\u001b[1;33m\u001b[0m\u001b[1;33m\u001b[0m\u001b[0m\n\u001b[1;32m-> 3514\u001b[1;33m     \u001b[0mdtype\u001b[0m \u001b[1;33m=\u001b[0m \u001b[0mtype\u001b[0m\u001b[1;33m(\u001b[0m\u001b[1;36m1.0\u001b[0m \u001b[1;33m+\u001b[0m \u001b[0mx\u001b[0m\u001b[1;33m[\u001b[0m\u001b[1;36m0\u001b[0m\u001b[1;33m]\u001b[0m \u001b[1;33m+\u001b[0m \u001b[0my\u001b[0m\u001b[1;33m[\u001b[0m\u001b[1;36m0\u001b[0m\u001b[1;33m]\u001b[0m\u001b[1;33m)\u001b[0m\u001b[1;33m\u001b[0m\u001b[1;33m\u001b[0m\u001b[0m\n\u001b[0m\u001b[0;32m   3515\u001b[0m \u001b[1;33m\u001b[0m\u001b[0m\n\u001b[0;32m   3516\u001b[0m     \u001b[1;32mif\u001b[0m \u001b[0mn\u001b[0m \u001b[1;33m==\u001b[0m \u001b[1;36m2\u001b[0m\u001b[1;33m:\u001b[0m\u001b[1;33m\u001b[0m\u001b[1;33m\u001b[0m\u001b[0m\n",
      "\u001b[1;31mUFuncTypeError\u001b[0m: ufunc 'add' did not contain a loop with signature matching types (dtype('<U32'), dtype('<U32')) -> dtype('<U32')"
     ]
    }
   ],
   "source": [
    "happiness = cleaned_base_df.iloc[:,7]\n",
    "region = cleaned_base_df.iloc[:,6]\n",
    "correlation = st.pearsonr(happiness,region)\n",
    "print(f\"The correlation between both factors is {round(correlation[0],2)}\")"
   ]
  },
  {
   "cell_type": "code",
   "execution_count": 62,
   "metadata": {},
   "outputs": [
    {
     "data": {
      "text/html": [
       "<div>\n",
       "<style scoped>\n",
       "    .dataframe tbody tr th:only-of-type {\n",
       "        vertical-align: middle;\n",
       "    }\n",
       "\n",
       "    .dataframe tbody tr th {\n",
       "        vertical-align: top;\n",
       "    }\n",
       "\n",
       "    .dataframe thead th {\n",
       "        text-align: right;\n",
       "    }\n",
       "</style>\n",
       "<table border=\"1\" class=\"dataframe\">\n",
       "  <thead>\n",
       "    <tr style=\"text-align: right;\">\n",
       "      <th></th>\n",
       "      <th>country</th>\n",
       "      <th>Population</th>\n",
       "      <th>Total Number of Suicides</th>\n",
       "      <th>Number of Suicides per 100K Population</th>\n",
       "      <th>GDP for 2015</th>\n",
       "      <th>GDP per Capita</th>\n",
       "      <th>region</th>\n",
       "      <th>happiness rank</th>\n",
       "    </tr>\n",
       "  </thead>\n",
       "  <tbody>\n",
       "    <tr>\n",
       "      <th>54</th>\n",
       "      <td>Switzerland</td>\n",
       "      <td>7892502</td>\n",
       "      <td>1073</td>\n",
       "      <td>164.66</td>\n",
       "      <td>6.792892e+11</td>\n",
       "      <td>86068</td>\n",
       "      <td>Western Europe</td>\n",
       "      <td>1.0</td>\n",
       "    </tr>\n",
       "    <tr>\n",
       "      <th>24</th>\n",
       "      <td>Iceland</td>\n",
       "      <td>308554</td>\n",
       "      <td>40</td>\n",
       "      <td>140.65</td>\n",
       "      <td>1.694225e+10</td>\n",
       "      <td>54909</td>\n",
       "      <td>Western Europe</td>\n",
       "      <td>2.0</td>\n",
       "    </tr>\n",
       "    <tr>\n",
       "      <th>14</th>\n",
       "      <td>Denmark</td>\n",
       "      <td>5383060</td>\n",
       "      <td>564</td>\n",
       "      <td>121.42</td>\n",
       "      <td>3.012985e+11</td>\n",
       "      <td>55972</td>\n",
       "      <td>Western Europe</td>\n",
       "      <td>3.0</td>\n",
       "    </tr>\n",
       "    <tr>\n",
       "      <th>38</th>\n",
       "      <td>Norway</td>\n",
       "      <td>4882909</td>\n",
       "      <td>590</td>\n",
       "      <td>136.43</td>\n",
       "      <td>3.866631e+11</td>\n",
       "      <td>79187</td>\n",
       "      <td>Western Europe</td>\n",
       "      <td>4.0</td>\n",
       "    </tr>\n",
       "    <tr>\n",
       "      <th>17</th>\n",
       "      <td>Finland</td>\n",
       "      <td>5181797</td>\n",
       "      <td>731</td>\n",
       "      <td>161.19</td>\n",
       "      <td>2.324648e+11</td>\n",
       "      <td>44862</td>\n",
       "      <td>Western Europe</td>\n",
       "      <td>6.0</td>\n",
       "    </tr>\n",
       "  </tbody>\n",
       "</table>\n",
       "</div>"
      ],
      "text/plain": [
       "        country  Population  Total Number of Suicides  \\\n",
       "54  Switzerland     7892502                      1073   \n",
       "24      Iceland      308554                        40   \n",
       "14      Denmark     5383060                       564   \n",
       "38       Norway     4882909                       590   \n",
       "17      Finland     5181797                       731   \n",
       "\n",
       "    Number of Suicides per 100K Population  GDP for 2015  GDP per Capita  \\\n",
       "54                                  164.66  6.792892e+11           86068   \n",
       "24                                  140.65  1.694225e+10           54909   \n",
       "14                                  121.42  3.012985e+11           55972   \n",
       "38                                  136.43  3.866631e+11           79187   \n",
       "17                                  161.19  2.324648e+11           44862   \n",
       "\n",
       "            region  happiness rank  \n",
       "54  Western Europe             1.0  \n",
       "24  Western Europe             2.0  \n",
       "14  Western Europe             3.0  \n",
       "38  Western Europe             4.0  \n",
       "17  Western Europe             6.0  "
      ]
     },
     "execution_count": 62,
     "metadata": {},
     "output_type": "execute_result"
    }
   ],
   "source": [
    "cleaned_base_df.head()"
   ]
  },
  {
   "cell_type": "code",
   "execution_count": 22,
   "metadata": {
    "scrolled": true
   },
   "outputs": [
    {
     "data": {
      "image/png": "[encoded data removed]",
      "text/plain": [
       "<Figure size 432x288 with 1 Axes>"
      ]
     },
     "metadata": {
      "needs_background": "light"
     },
     "output_type": "display_data"
    }
   ],
   "source": [
    "#Comparing Total Suicides with Unique Suicide Data\n",
    "plt.scatter(cleaned_base_df.iloc[:,1],cleaned_base_df.iloc[:,2])\n",
    "plt.xlabel('Population')\n",
    "plt.ylabel('Total Number of Suicides')\n",
    "plt.show()"
   ]
  },
  {
   "cell_type": "code",
   "execution_count": 56,
   "metadata": {},
   "outputs": [
    {
     "name": "stdout",
     "output_type": "stream",
     "text": [
      "The correlation between both factors is 0.9\n"
     ]
    }
   ],
   "source": [
    "population = cleaned_base_df.iloc[:,1]\n",
    "suicides = cleaned_base_df.iloc[:,2]\n",
    "correlation = st.pearsonr(population,suicides)\n",
    "print(f\"The correlation between both factors is {round(correlation[0],2)}\")"
   ]
  },
  {
   "cell_type": "code",
   "execution_count": 48,
   "metadata": {},
   "outputs": [
    {
     "data": {
      "image/png": "[encoded data removed]",
      "text/plain": [
       "<Figure size 432x288 with 1 Axes>"
      ]
     },
     "metadata": {
      "needs_background": "light"
     },
     "output_type": "display_data"
    }
   ],
   "source": [
    "plt.scatter(cleaned_base_df.iloc[:,3],cleaned_base_df.iloc[:,2])\n",
    "plt.xlabel('Number of Suicides per 100K Population')\n",
    "plt.ylabel('Total Number of Suicides')\n",
    "plt.show()"
   ]
  },
  {
   "cell_type": "code",
   "execution_count": 57,
   "metadata": {},
   "outputs": [
    {
     "name": "stdout",
     "output_type": "stream",
     "text": [
      "The correlation between both factors is 0.13\n"
     ]
    }
   ],
   "source": [
    "suicides_100k = cleaned_base_df.iloc[:,3]\n",
    "suicides = cleaned_base_df.iloc[:,2]\n",
    "correlation = st.pearsonr(suicides_100k,suicides)\n",
    "print(f\"The correlation between both factors is {round(correlation[0],2)}\")"
   ]
  },
  {
   "cell_type": "code",
   "execution_count": 49,
   "metadata": {},
   "outputs": [
    {
     "data": {
      "image/png": "[encoded data removed]",
      "text/plain": [
       "<Figure size 432x288 with 1 Axes>"
      ]
     },
     "metadata": {
      "needs_background": "light"
     },
     "output_type": "display_data"
    }
   ],
   "source": [
    "plt.scatter(cleaned_base_df.iloc[:,4],cleaned_base_df.iloc[:,2])\n",
    "plt.xlabel('GDP for 2015')\n",
    "plt.ylabel('Total Number of Suicides')\n",
    "plt.show()"
   ]
  },
  {
   "cell_type": "code",
   "execution_count": 58,
   "metadata": {},
   "outputs": [
    {
     "name": "stdout",
     "output_type": "stream",
     "text": [
      "The correlation between both factors is 0.94\n"
     ]
    }
   ],
   "source": [
    "GDP = cleaned_base_df.iloc[:,4]\n",
    "suicides = cleaned_base_df.iloc[:,2]\n",
    "correlation = st.pearsonr(GDP,suicides)\n",
    "print(f\"The correlation between both factors is {round(correlation[0],2)}\")"
   ]
  },
  {
   "cell_type": "code",
   "execution_count": 50,
   "metadata": {},
   "outputs": [
    {
     "data": {
      "image/png": "[encoded data removed]",
      "text/plain": [
       "<Figure size 432x288 with 1 Axes>"
      ]
     },
     "metadata": {
      "needs_background": "light"
     },
     "output_type": "display_data"
    }
   ],
   "source": [
    "plt.scatter(cleaned_base_df.iloc[:,5],cleaned_base_df.iloc[:,2])\n",
    "plt.xlabel('GDP per Capita')\n",
    "plt.ylabel('Total Number of Suicides')\n",
    "plt.show()"
   ]
  },
  {
   "cell_type": "code",
   "execution_count": 59,
   "metadata": {},
   "outputs": [
    {
     "name": "stdout",
     "output_type": "stream",
     "text": [
      "The correlation between both factors is 0.12\n"
     ]
    }
   ],
   "source": [
    "GDP_capita = cleaned_base_df.iloc[:,5]\n",
    "suicides = cleaned_base_df.iloc[:,2]\n",
    "correlation = st.pearsonr(GDP_capita,suicides)\n",
    "print(f\"The correlation between both factors is {round(correlation[0],2)}\")"
   ]
  },
  {
   "cell_type": "code",
   "execution_count": 54,
   "metadata": {},
   "outputs": [
    {
     "data": {
      "image/png": "[encoded data removed]",
      "text/plain": [
       "<Figure size 432x288 with 1 Axes>"
      ]
     },
     "metadata": {
      "needs_background": "light"
     },
     "output_type": "display_data"
    }
   ],
   "source": [
    "plt.scatter(cleaned_base_df.iloc[:,6],cleaned_base_df.iloc[:,2])\n",
    "plt.xlabel('Region')\n",
    "plt.ylabel('Total Number of Suicides')\n",
    "plt.xticks(rotation=90)\n",
    "plt.show()"
   ]
  },
  {
   "cell_type": "code",
   "execution_count": 60,
   "metadata": {},
   "outputs": [
    {
     "ename": "TypeError",
     "evalue": "unsupported operand type(s) for +: 'float' and 'str'",
     "output_type": "error",
     "traceback": [
      "\u001b[1;31m---------------------------------------------------------------------------\u001b[0m",
      "\u001b[1;31mTypeError\u001b[0m                                 Traceback (most recent call last)",
      "\u001b[1;32m<ipython-input-60-0311cc257c7c>\u001b[0m in \u001b[0;36m<module>\u001b[1;34m\u001b[0m\n\u001b[0;32m      1\u001b[0m \u001b[0mregions\u001b[0m \u001b[1;33m=\u001b[0m \u001b[0mcleaned_base_df\u001b[0m\u001b[1;33m.\u001b[0m\u001b[0miloc\u001b[0m\u001b[1;33m[\u001b[0m\u001b[1;33m:\u001b[0m\u001b[1;33m,\u001b[0m\u001b[1;36m6\u001b[0m\u001b[1;33m]\u001b[0m\u001b[1;33m\u001b[0m\u001b[1;33m\u001b[0m\u001b[0m\n\u001b[0;32m      2\u001b[0m \u001b[0msuicides\u001b[0m \u001b[1;33m=\u001b[0m \u001b[0mcleaned_base_df\u001b[0m\u001b[1;33m.\u001b[0m\u001b[0miloc\u001b[0m\u001b[1;33m[\u001b[0m\u001b[1;33m:\u001b[0m\u001b[1;33m,\u001b[0m\u001b[1;36m2\u001b[0m\u001b[1;33m]\u001b[0m\u001b[1;33m\u001b[0m\u001b[1;33m\u001b[0m\u001b[0m\n\u001b[1;32m----> 3\u001b[1;33m \u001b[0mcorrelation\u001b[0m \u001b[1;33m=\u001b[0m \u001b[0mst\u001b[0m\u001b[1;33m.\u001b[0m\u001b[0mpearsonr\u001b[0m\u001b[1;33m(\u001b[0m\u001b[0mregions\u001b[0m\u001b[1;33m,\u001b[0m\u001b[0msuicides\u001b[0m\u001b[1;33m)\u001b[0m\u001b[1;33m\u001b[0m\u001b[1;33m\u001b[0m\u001b[0m\n\u001b[0m\u001b[0;32m      4\u001b[0m \u001b[0mprint\u001b[0m\u001b[1;33m(\u001b[0m\u001b[1;34mf\"The correlation between both factors is {round(correlation[0],2)}\"\u001b[0m\u001b[1;33m)\u001b[0m\u001b[1;33m\u001b[0m\u001b[1;33m\u001b[0m\u001b[0m\n",
      "\u001b[1;32m~\\Anaconda3\\lib\\site-packages\\scipy\\stats\\stats.py\u001b[0m in \u001b[0;36mpearsonr\u001b[1;34m(x, y)\u001b[0m\n\u001b[0;32m   3512\u001b[0m     \u001b[1;31m# that the data type is at least 64 bit floating point.  It might have\u001b[0m\u001b[1;33m\u001b[0m\u001b[1;33m\u001b[0m\u001b[1;33m\u001b[0m\u001b[0m\n\u001b[0;32m   3513\u001b[0m     \u001b[1;31m# more precision if the input is, for example, np.longdouble.\u001b[0m\u001b[1;33m\u001b[0m\u001b[1;33m\u001b[0m\u001b[1;33m\u001b[0m\u001b[0m\n\u001b[1;32m-> 3514\u001b[1;33m     \u001b[0mdtype\u001b[0m \u001b[1;33m=\u001b[0m \u001b[0mtype\u001b[0m\u001b[1;33m(\u001b[0m\u001b[1;36m1.0\u001b[0m \u001b[1;33m+\u001b[0m \u001b[0mx\u001b[0m\u001b[1;33m[\u001b[0m\u001b[1;36m0\u001b[0m\u001b[1;33m]\u001b[0m \u001b[1;33m+\u001b[0m \u001b[0my\u001b[0m\u001b[1;33m[\u001b[0m\u001b[1;36m0\u001b[0m\u001b[1;33m]\u001b[0m\u001b[1;33m)\u001b[0m\u001b[1;33m\u001b[0m\u001b[1;33m\u001b[0m\u001b[0m\n\u001b[0m\u001b[0;32m   3515\u001b[0m \u001b[1;33m\u001b[0m\u001b[0m\n\u001b[0;32m   3516\u001b[0m     \u001b[1;32mif\u001b[0m \u001b[0mn\u001b[0m \u001b[1;33m==\u001b[0m \u001b[1;36m2\u001b[0m\u001b[1;33m:\u001b[0m\u001b[1;33m\u001b[0m\u001b[1;33m\u001b[0m\u001b[0m\n",
      "\u001b[1;31mTypeError\u001b[0m: unsupported operand type(s) for +: 'float' and 'str'"
     ]
    }
   ],
   "source": [
    "regions = cleaned_base_df.iloc[:,6]\n",
    "suicides = cleaned_base_df.iloc[:,2]\n",
    "correlation = st.pearsonr(regions,suicides)\n",
    "print(f\"The correlation between both factors is {round(correlation[0],2)}\")"
   ]
  },
  {
   "cell_type": "code",
   "execution_count": null,
   "metadata": {},
   "outputs": [],
   "source": []
  }
 ],
 "metadata": {
  "kernelspec": {
   "display_name": "Python 3",
   "language": "python",
   "name": "python3"
  },
  "language_info": {
   "codemirror_mode": {
    "name": "ipython",
    "version": 3
   },
   "file_extension": ".py",
   "mimetype": "text/x-python",
   "name": "python",
   "nbconvert_exporter": "python",
   "pygments_lexer": "ipython3",
   "version": "3.7.6"
  }
 },
 "nbformat": 4,
 "nbformat_minor": 4
}
