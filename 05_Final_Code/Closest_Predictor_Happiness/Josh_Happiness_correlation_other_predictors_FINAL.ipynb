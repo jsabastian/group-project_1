{
 "cells": [
  {
   "cell_type": "code",
   "execution_count": 106,
   "metadata": {},
   "outputs": [],
   "source": [
    "# import dependencies\n",
    "import pandas as pd\n",
    "import os\n",
    "import csv\n",
    "import matplotlib.pyplot as plt\n",
    "import numpy as np\n",
    "import scipy.stats as st\n",
    "plt.style.use('ggplot')"
   ]
  },
  {
   "cell_type": "code",
   "execution_count": 107,
   "metadata": {},
   "outputs": [],
   "source": [
    "%matplotlib inline"
   ]
  },
  {
   "cell_type": "code",
   "execution_count": 108,
   "metadata": {},
   "outputs": [],
   "source": [
    "file_to_load = \"merged_data_2.csv\""
   ]
  },
  {
   "cell_type": "code",
   "execution_count": 109,
   "metadata": {},
   "outputs": [],
   "source": [
    "df3 = pd.read_csv(file_to_load)"
   ]
  },
  {
   "cell_type": "code",
   "execution_count": 110,
   "metadata": {
    "scrolled": true
   },
   "outputs": [
    {
     "data": {
      "text/html": [
       "<div>\n",
       "<style scoped>\n",
       "    .dataframe tbody tr th:only-of-type {\n",
       "        vertical-align: middle;\n",
       "    }\n",
       "\n",
       "    .dataframe tbody tr th {\n",
       "        vertical-align: top;\n",
       "    }\n",
       "\n",
       "    .dataframe thead th {\n",
       "        text-align: right;\n",
       "    }\n",
       "</style>\n",
       "<table border=\"1\" class=\"dataframe\">\n",
       "  <thead>\n",
       "    <tr style=\"text-align: right;\">\n",
       "      <th></th>\n",
       "      <th>country</th>\n",
       "      <th>Population</th>\n",
       "      <th>Total Number of Suicides</th>\n",
       "      <th>Number of Suicides per 100K Population</th>\n",
       "      <th>GDP for 2015</th>\n",
       "      <th>GDP per Capita</th>\n",
       "      <th>region</th>\n",
       "      <th>happiness rank</th>\n",
       "      <th>happiness score</th>\n",
       "      <th>economy (GDP per Capita)</th>\n",
       "      <th>Family</th>\n",
       "      <th>Health (Life Expectancy)</th>\n",
       "      <th>Freedom</th>\n",
       "      <th>Trust (Government Corruption)</th>\n",
       "      <th>Generosity</th>\n",
       "      <th>Dystopia Residual</th>\n",
       "    </tr>\n",
       "  </thead>\n",
       "  <tbody>\n",
       "    <tr>\n",
       "      <th>0</th>\n",
       "      <td>Switzerland</td>\n",
       "      <td>7892502</td>\n",
       "      <td>1073</td>\n",
       "      <td>164.66</td>\n",
       "      <td>6.792892e+11</td>\n",
       "      <td>86068</td>\n",
       "      <td>Western Europe</td>\n",
       "      <td>1.0</td>\n",
       "      <td>7.587</td>\n",
       "      <td>1.39651</td>\n",
       "      <td>1.34951</td>\n",
       "      <td>0.94143</td>\n",
       "      <td>0.66557</td>\n",
       "      <td>0.41978</td>\n",
       "      <td>0.29678</td>\n",
       "      <td>2.51738</td>\n",
       "    </tr>\n",
       "    <tr>\n",
       "      <th>1</th>\n",
       "      <td>Iceland</td>\n",
       "      <td>308554</td>\n",
       "      <td>40</td>\n",
       "      <td>140.65</td>\n",
       "      <td>1.694225e+10</td>\n",
       "      <td>54909</td>\n",
       "      <td>Western Europe</td>\n",
       "      <td>2.0</td>\n",
       "      <td>7.561</td>\n",
       "      <td>1.30232</td>\n",
       "      <td>1.40223</td>\n",
       "      <td>0.94784</td>\n",
       "      <td>0.62877</td>\n",
       "      <td>0.14145</td>\n",
       "      <td>0.43630</td>\n",
       "      <td>2.70201</td>\n",
       "    </tr>\n",
       "    <tr>\n",
       "      <th>2</th>\n",
       "      <td>Denmark</td>\n",
       "      <td>5383060</td>\n",
       "      <td>564</td>\n",
       "      <td>121.42</td>\n",
       "      <td>3.012985e+11</td>\n",
       "      <td>55972</td>\n",
       "      <td>Western Europe</td>\n",
       "      <td>3.0</td>\n",
       "      <td>7.527</td>\n",
       "      <td>1.32548</td>\n",
       "      <td>1.36058</td>\n",
       "      <td>0.87464</td>\n",
       "      <td>0.64938</td>\n",
       "      <td>0.48357</td>\n",
       "      <td>0.34139</td>\n",
       "      <td>2.49204</td>\n",
       "    </tr>\n",
       "    <tr>\n",
       "      <th>3</th>\n",
       "      <td>Norway</td>\n",
       "      <td>4882909</td>\n",
       "      <td>590</td>\n",
       "      <td>136.43</td>\n",
       "      <td>3.866631e+11</td>\n",
       "      <td>79187</td>\n",
       "      <td>Western Europe</td>\n",
       "      <td>4.0</td>\n",
       "      <td>7.522</td>\n",
       "      <td>1.45900</td>\n",
       "      <td>1.33095</td>\n",
       "      <td>0.88521</td>\n",
       "      <td>0.66973</td>\n",
       "      <td>0.36503</td>\n",
       "      <td>0.34699</td>\n",
       "      <td>2.46531</td>\n",
       "    </tr>\n",
       "    <tr>\n",
       "      <th>4</th>\n",
       "      <td>Finland</td>\n",
       "      <td>5181797</td>\n",
       "      <td>731</td>\n",
       "      <td>161.19</td>\n",
       "      <td>2.324648e+11</td>\n",
       "      <td>44862</td>\n",
       "      <td>Western Europe</td>\n",
       "      <td>6.0</td>\n",
       "      <td>7.406</td>\n",
       "      <td>1.29025</td>\n",
       "      <td>1.31826</td>\n",
       "      <td>0.88911</td>\n",
       "      <td>0.64169</td>\n",
       "      <td>0.41372</td>\n",
       "      <td>0.23351</td>\n",
       "      <td>2.61955</td>\n",
       "    </tr>\n",
       "    <tr>\n",
       "      <th>5</th>\n",
       "      <td>Netherlands</td>\n",
       "      <td>16057342</td>\n",
       "      <td>1873</td>\n",
       "      <td>126.93</td>\n",
       "      <td>7.579995e+11</td>\n",
       "      <td>47206</td>\n",
       "      <td>Western Europe</td>\n",
       "      <td>7.0</td>\n",
       "      <td>7.378</td>\n",
       "      <td>1.32944</td>\n",
       "      <td>1.28017</td>\n",
       "      <td>0.89284</td>\n",
       "      <td>0.61576</td>\n",
       "      <td>0.31814</td>\n",
       "      <td>0.47610</td>\n",
       "      <td>2.46570</td>\n",
       "    </tr>\n",
       "    <tr>\n",
       "      <th>6</th>\n",
       "      <td>Sweden</td>\n",
       "      <td>9114524</td>\n",
       "      <td>1182</td>\n",
       "      <td>149.30</td>\n",
       "      <td>4.979181e+11</td>\n",
       "      <td>54629</td>\n",
       "      <td>Western Europe</td>\n",
       "      <td>8.0</td>\n",
       "      <td>7.364</td>\n",
       "      <td>1.33171</td>\n",
       "      <td>1.28907</td>\n",
       "      <td>0.91087</td>\n",
       "      <td>0.65980</td>\n",
       "      <td>0.43844</td>\n",
       "      <td>0.36262</td>\n",
       "      <td>2.37119</td>\n",
       "    </tr>\n",
       "    <tr>\n",
       "      <th>7</th>\n",
       "      <td>Australia</td>\n",
       "      <td>22240785</td>\n",
       "      <td>3027</td>\n",
       "      <td>154.18</td>\n",
       "      <td>1.349034e+12</td>\n",
       "      <td>60656</td>\n",
       "      <td>Australia and New Zealand</td>\n",
       "      <td>10.0</td>\n",
       "      <td>7.284</td>\n",
       "      <td>1.33358</td>\n",
       "      <td>1.30923</td>\n",
       "      <td>0.93156</td>\n",
       "      <td>0.65124</td>\n",
       "      <td>0.35637</td>\n",
       "      <td>0.43562</td>\n",
       "      <td>2.26646</td>\n",
       "    </tr>\n",
       "    <tr>\n",
       "      <th>8</th>\n",
       "      <td>Israel</td>\n",
       "      <td>7516180</td>\n",
       "      <td>342</td>\n",
       "      <td>65.91</td>\n",
       "      <td>2.990938e+11</td>\n",
       "      <td>39793</td>\n",
       "      <td>Middle East and Northern Africa</td>\n",
       "      <td>11.0</td>\n",
       "      <td>7.278</td>\n",
       "      <td>1.22857</td>\n",
       "      <td>1.22393</td>\n",
       "      <td>0.91387</td>\n",
       "      <td>0.41319</td>\n",
       "      <td>0.07785</td>\n",
       "      <td>0.33172</td>\n",
       "      <td>3.08854</td>\n",
       "    </tr>\n",
       "    <tr>\n",
       "      <th>9</th>\n",
       "      <td>Austria</td>\n",
       "      <td>8219386</td>\n",
       "      <td>1251</td>\n",
       "      <td>194.62</td>\n",
       "      <td>3.820659e+11</td>\n",
       "      <td>46484</td>\n",
       "      <td>Western Europe</td>\n",
       "      <td>13.0</td>\n",
       "      <td>7.200</td>\n",
       "      <td>1.33723</td>\n",
       "      <td>1.29704</td>\n",
       "      <td>0.89042</td>\n",
       "      <td>0.62433</td>\n",
       "      <td>0.18676</td>\n",
       "      <td>0.33088</td>\n",
       "      <td>2.53320</td>\n",
       "    </tr>\n",
       "  </tbody>\n",
       "</table>\n",
       "</div>"
      ],
      "text/plain": [
       "       country  Population  Total Number of Suicides  \\\n",
       "0  Switzerland     7892502                      1073   \n",
       "1      Iceland      308554                        40   \n",
       "2      Denmark     5383060                       564   \n",
       "3       Norway     4882909                       590   \n",
       "4      Finland     5181797                       731   \n",
       "5  Netherlands    16057342                      1873   \n",
       "6       Sweden     9114524                      1182   \n",
       "7    Australia    22240785                      3027   \n",
       "8       Israel     7516180                       342   \n",
       "9      Austria     8219386                      1251   \n",
       "\n",
       "   Number of Suicides per 100K Population  GDP for 2015  GDP per Capita  \\\n",
       "0                                  164.66  6.792892e+11           86068   \n",
       "1                                  140.65  1.694225e+10           54909   \n",
       "2                                  121.42  3.012985e+11           55972   \n",
       "3                                  136.43  3.866631e+11           79187   \n",
       "4                                  161.19  2.324648e+11           44862   \n",
       "5                                  126.93  7.579995e+11           47206   \n",
       "6                                  149.30  4.979181e+11           54629   \n",
       "7                                  154.18  1.349034e+12           60656   \n",
       "8                                   65.91  2.990938e+11           39793   \n",
       "9                                  194.62  3.820659e+11           46484   \n",
       "\n",
       "                            region  happiness rank  happiness score  \\\n",
       "0                   Western Europe             1.0            7.587   \n",
       "1                   Western Europe             2.0            7.561   \n",
       "2                   Western Europe             3.0            7.527   \n",
       "3                   Western Europe             4.0            7.522   \n",
       "4                   Western Europe             6.0            7.406   \n",
       "5                   Western Europe             7.0            7.378   \n",
       "6                   Western Europe             8.0            7.364   \n",
       "7        Australia and New Zealand            10.0            7.284   \n",
       "8  Middle East and Northern Africa            11.0            7.278   \n",
       "9                   Western Europe            13.0            7.200   \n",
       "\n",
       "   economy (GDP per Capita)   Family  Health (Life Expectancy)  Freedom  \\\n",
       "0                   1.39651  1.34951                   0.94143  0.66557   \n",
       "1                   1.30232  1.40223                   0.94784  0.62877   \n",
       "2                   1.32548  1.36058                   0.87464  0.64938   \n",
       "3                   1.45900  1.33095                   0.88521  0.66973   \n",
       "4                   1.29025  1.31826                   0.88911  0.64169   \n",
       "5                   1.32944  1.28017                   0.89284  0.61576   \n",
       "6                   1.33171  1.28907                   0.91087  0.65980   \n",
       "7                   1.33358  1.30923                   0.93156  0.65124   \n",
       "8                   1.22857  1.22393                   0.91387  0.41319   \n",
       "9                   1.33723  1.29704                   0.89042  0.62433   \n",
       "\n",
       "   Trust (Government Corruption)  Generosity  Dystopia Residual  \n",
       "0                        0.41978     0.29678            2.51738  \n",
       "1                        0.14145     0.43630            2.70201  \n",
       "2                        0.48357     0.34139            2.49204  \n",
       "3                        0.36503     0.34699            2.46531  \n",
       "4                        0.41372     0.23351            2.61955  \n",
       "5                        0.31814     0.47610            2.46570  \n",
       "6                        0.43844     0.36262            2.37119  \n",
       "7                        0.35637     0.43562            2.26646  \n",
       "8                        0.07785     0.33172            3.08854  \n",
       "9                        0.18676     0.33088            2.53320  "
      ]
     },
     "execution_count": 110,
     "metadata": {},
     "output_type": "execute_result"
    }
   ],
   "source": [
    "df3.head(10)"
   ]
  },
  {
   "cell_type": "code",
   "execution_count": 111,
   "metadata": {},
   "outputs": [
    {
     "data": {
      "image/png": "[encoded data removed]",
      "text/plain": [
       "<Figure size 432x288 with 1 Axes>"
      ]
     },
     "metadata": {
      "needs_background": "light"
     },
     "output_type": "display_data"
    }
   ],
   "source": [
    "#Comparing Happiness Score with Population\n",
    "plt.scatter(df3.iloc[:,8],df3.iloc[:,1])\n",
    "plt.xlabel('Happiness Score')\n",
    "plt.ylabel('Population')\n",
    "plt.show()"
   ]
  },
  {
   "cell_type": "code",
   "execution_count": 112,
   "metadata": {},
   "outputs": [
    {
     "name": "stdout",
     "output_type": "stream",
     "text": [
      "The correlation between both factors is 0.17\n"
     ]
    }
   ],
   "source": [
    "happiness = df3.iloc[:,8]\n",
    "population = df3.iloc[:,1]\n",
    "correlation = st.pearsonr(happiness,population)\n",
    "print(f\"The correlation between both factors is {round(correlation[0],2)}\")"
   ]
  },
  {
   "cell_type": "code",
   "execution_count": 113,
   "metadata": {},
   "outputs": [
    {
     "data": {
      "image/png": "[encoded data removed]",
      "text/plain": [
       "<Figure size 432x288 with 1 Axes>"
      ]
     },
     "metadata": {
      "needs_background": "light"
     },
     "output_type": "display_data"
    }
   ],
   "source": [
    "#Comparing Happiness Score with Total Number of Suicides\n",
    "plt.scatter(df3.iloc[:,8],df3.iloc[:,2])\n",
    "plt.xlabel('Happiness Score')\n",
    "plt.ylabel('Total Number of Suicides')\n",
    "plt.show()"
   ]
  },
  {
   "cell_type": "code",
   "execution_count": 114,
   "metadata": {},
   "outputs": [
    {
     "name": "stdout",
     "output_type": "stream",
     "text": [
      "The correlation between both factors is 0.14\n"
     ]
    }
   ],
   "source": [
    "happiness = df3.iloc[:,8]\n",
    "total_suicides = df3.iloc[:,2]\n",
    "correlation = st.pearsonr(happiness,total_suicides)\n",
    "print(f\"The correlation between both factors is {round(correlation[0],2)}\")"
   ]
  },
  {
   "cell_type": "code",
   "execution_count": 115,
   "metadata": {},
   "outputs": [
    {
     "data": {
      "image/png": "[encoded data removed]",
      "text/plain": [
       "<Figure size 432x288 with 1 Axes>"
      ]
     },
     "metadata": {
      "needs_background": "light"
     },
     "output_type": "display_data"
    }
   ],
   "source": [
    "#Comparing Happiness Score with Number of Suicides per 100K Population\n",
    "plt.scatter(df3.iloc[:,8],df3.iloc[:,3])\n",
    "plt.xlabel('Happiness Score')\n",
    "plt.ylabel('Number of Suicides per 100K Population')\n",
    "plt.show()"
   ]
  },
  {
   "cell_type": "code",
   "execution_count": 116,
   "metadata": {},
   "outputs": [
    {
     "name": "stdout",
     "output_type": "stream",
     "text": [
      "The correlation between both factors is -0.01\n"
     ]
    }
   ],
   "source": [
    "happiness = df3.iloc[:,8]\n",
    "suicides_per100 = df3.iloc[:,3]\n",
    "correlation = st.pearsonr(happiness,suicides_per100)\n",
    "print(f\"The correlation between both factors is {round(correlation[0],2)}\")"
   ]
  },
  {
   "cell_type": "code",
   "execution_count": 117,
   "metadata": {
    "scrolled": true
   },
   "outputs": [
    {
     "data": {
      "image/png": "[encoded data removed]",
      "text/plain": [
       "<Figure size 432x288 with 1 Axes>"
      ]
     },
     "metadata": {
      "needs_background": "light"
     },
     "output_type": "display_data"
    }
   ],
   "source": [
    "#Comparing Happiness Score with GDP 2015\n",
    "plt.scatter(df3.iloc[:,8],df3.iloc[:,4])\n",
    "plt.xlabel('Happiness Score')\n",
    "plt.ylabel('GDP 2015')\n",
    "plt.show()"
   ]
  },
  {
   "cell_type": "code",
   "execution_count": 118,
   "metadata": {},
   "outputs": [
    {
     "name": "stdout",
     "output_type": "stream",
     "text": [
      "The correlation between both factors is -0.01\n"
     ]
    }
   ],
   "source": [
    "happiness = df3.iloc[:,8]\n",
    "GDP_2015 = df3.iloc[:,3]\n",
    "correlation = st.pearsonr(happiness,GDP_2015)\n",
    "print(f\"The correlation between both factors is {round(correlation[0],2)}\")"
   ]
  },
  {
   "cell_type": "code",
   "execution_count": 119,
   "metadata": {},
   "outputs": [
    {
     "data": {
      "image/png": "[encoded data removed]",
      "text/plain": [
       "<Figure size 432x288 with 1 Axes>"
      ]
     },
     "metadata": {
      "needs_background": "light"
     },
     "output_type": "display_data"
    }
   ],
   "source": [
    "#Comparing Happiness Score with GDP per Capita\n",
    "plt.scatter(df3.iloc[:,8],df3.iloc[:,5])\n",
    "plt.xlabel('Happiness Score')\n",
    "plt.ylabel('GDP per Capita')\n",
    "plt.show()"
   ]
  },
  {
   "cell_type": "code",
   "execution_count": 120,
   "metadata": {},
   "outputs": [
    {
     "name": "stdout",
     "output_type": "stream",
     "text": [
      "The correlation between both factors is 0.21\n"
     ]
    }
   ],
   "source": [
    "happiness = df3.iloc[:,8]\n",
    "GDP_capita = df3.iloc[:,4]\n",
    "correlation = st.pearsonr(happiness,GDP_capita)\n",
    "print(f\"The correlation between both factors is {round(correlation[0],2)}\")"
   ]
  },
  {
   "cell_type": "code",
   "execution_count": 121,
   "metadata": {},
   "outputs": [
    {
     "data": {
      "image/png": "[encoded data removed]",
      "text/plain": [
       "<Figure size 432x288 with 1 Axes>"
      ]
     },
     "metadata": {
      "needs_background": "light"
     },
     "output_type": "display_data"
    }
   ],
   "source": [
    "#Comparing Happiness Score with Importance of Family\n",
    "plt.scatter(df3.iloc[:,8],df3.iloc[:,10])\n",
    "plt.xlabel('Happiness Score')\n",
    "plt.ylabel('Family')\n",
    "plt.show()"
   ]
  },
  {
   "cell_type": "code",
   "execution_count": 122,
   "metadata": {},
   "outputs": [
    {
     "name": "stdout",
     "output_type": "stream",
     "text": [
      "The correlation between both factors is 0.62\n"
     ]
    }
   ],
   "source": [
    "happiness = df3.iloc[:,8]\n",
    "family = df3.iloc[:,10]\n",
    "correlation = st.pearsonr(happiness,family)\n",
    "print(f\"The correlation between both factors is {round(correlation[0],2)}\")"
   ]
  },
  {
   "cell_type": "code",
   "execution_count": 123,
   "metadata": {},
   "outputs": [
    {
     "data": {
      "image/png": "[encoded data removed]",
      "text/plain": [
       "<Figure size 432x288 with 1 Axes>"
      ]
     },
     "metadata": {
      "needs_background": "light"
     },
     "output_type": "display_data"
    }
   ],
   "source": [
    "#Comparing Happiness Score with Importance of Health (Life Expectancy)\n",
    "plt.scatter(df3.iloc[:,8],df3.iloc[:,11])\n",
    "plt.xlabel('Happiness Score')\n",
    "plt.ylabel('Health')\n",
    "plt.show()"
   ]
  },
  {
   "cell_type": "code",
   "execution_count": 124,
   "metadata": {},
   "outputs": [
    {
     "name": "stdout",
     "output_type": "stream",
     "text": [
      "The correlation between both factors is 0.58\n"
     ]
    }
   ],
   "source": [
    "happiness = df3.iloc[:,8]\n",
    "health = df3.iloc[:,11]\n",
    "correlation = st.pearsonr(happiness,health)\n",
    "print(f\"The correlation between both factors is {round(correlation[0],2)}\")"
   ]
  },
  {
   "cell_type": "code",
   "execution_count": 125,
   "metadata": {},
   "outputs": [
    {
     "data": {
      "image/png": "[encoded data removed]",
      "text/plain": [
       "<Figure size 432x288 with 1 Axes>"
      ]
     },
     "metadata": {
      "needs_background": "light"
     },
     "output_type": "display_data"
    }
   ],
   "source": [
    "#Comparing Happiness Score with Importance of Freedom\n",
    "plt.scatter(df3.iloc[:,8],df3.iloc[:,12])\n",
    "plt.xlabel('Happiness Score')\n",
    "plt.ylabel('Freedom')\n",
    "plt.show()"
   ]
  },
  {
   "cell_type": "code",
   "execution_count": 126,
   "metadata": {},
   "outputs": [
    {
     "name": "stdout",
     "output_type": "stream",
     "text": [
      "The correlation between both factors is 0.76\n"
     ]
    }
   ],
   "source": [
    "happiness = df3.iloc[:,8]\n",
    "freedom = df3.iloc[:,12]\n",
    "correlation = st.pearsonr(happiness,freedom)\n",
    "print(f\"The correlation between both factors is {round(correlation[0],2)}\")"
   ]
  },
  {
   "cell_type": "code",
   "execution_count": 127,
   "metadata": {},
   "outputs": [
    {
     "data": {
      "image/png": "[encoded data removed]",
      "text/plain": [
       "<Figure size 432x288 with 1 Axes>"
      ]
     },
     "metadata": {
      "needs_background": "light"
     },
     "output_type": "display_data"
    }
   ],
   "source": [
    "#Comparing Happiness Score with Trust in Government\n",
    "plt.scatter(df3.iloc[:,8],df3.iloc[:,13])\n",
    "plt.xlabel('Happiness Score')\n",
    "plt.ylabel('Trust in Government')\n",
    "plt.show()"
   ]
  },
  {
   "cell_type": "code",
   "execution_count": 128,
   "metadata": {
    "scrolled": true
   },
   "outputs": [
    {
     "name": "stdout",
     "output_type": "stream",
     "text": [
      "The correlation between both factors is 0.54\n"
     ]
    }
   ],
   "source": [
    "happiness = df3.iloc[:,8]\n",
    "trust = df3.iloc[:,13]\n",
    "correlation = st.pearsonr(happiness,trust)\n",
    "print(f\"The correlation between both factors is {round(correlation[0],2)}\")"
   ]
  },
  {
   "cell_type": "code",
   "execution_count": 129,
   "metadata": {},
   "outputs": [
    {
     "data": {
      "image/png": "[encoded data removed]",
      "text/plain": [
       "<Figure size 432x288 with 1 Axes>"
      ]
     },
     "metadata": {
      "needs_background": "light"
     },
     "output_type": "display_data"
    }
   ],
   "source": [
    "#Comparing Happiness Score with Generosity\n",
    "plt.scatter(df3.iloc[:,8],df3.iloc[:,14])\n",
    "plt.xlabel('Happiness Score')\n",
    "plt.ylabel('Generosity')\n",
    "plt.show()"
   ]
  },
  {
   "cell_type": "code",
   "execution_count": 130,
   "metadata": {},
   "outputs": [
    {
     "name": "stdout",
     "output_type": "stream",
     "text": [
      "The correlation between both factors is 0.59\n"
     ]
    }
   ],
   "source": [
    "happiness = df3.iloc[:,8]\n",
    "generosity = df3.iloc[:,14]\n",
    "correlation = st.pearsonr(happiness,generosity)\n",
    "print(f\"The correlation between both factors is {round(correlation[0],2)}\")"
   ]
  },
  {
   "cell_type": "code",
   "execution_count": 131,
   "metadata": {},
   "outputs": [],
   "source": [
    "#FINISHED:: What predictor has the closest correlation to happiness? "
   ]
  },
  {
   "cell_type": "code",
   "execution_count": 132,
   "metadata": {},
   "outputs": [
    {
     "data": {
      "text/html": [
       "<div>\n",
       "<style scoped>\n",
       "    .dataframe tbody tr th:only-of-type {\n",
       "        vertical-align: middle;\n",
       "    }\n",
       "\n",
       "    .dataframe tbody tr th {\n",
       "        vertical-align: top;\n",
       "    }\n",
       "\n",
       "    .dataframe thead th {\n",
       "        text-align: right;\n",
       "    }\n",
       "</style>\n",
       "<table border=\"1\" class=\"dataframe\">\n",
       "  <thead>\n",
       "    <tr style=\"text-align: right;\">\n",
       "      <th></th>\n",
       "      <th>country</th>\n",
       "      <th>Population</th>\n",
       "      <th>Total Number of Suicides</th>\n",
       "      <th>Number of Suicides per 100K Population</th>\n",
       "      <th>GDP for 2015</th>\n",
       "      <th>GDP per Capita</th>\n",
       "      <th>region</th>\n",
       "      <th>happiness rank</th>\n",
       "      <th>happiness score</th>\n",
       "      <th>economy (GDP per Capita)</th>\n",
       "      <th>Family</th>\n",
       "      <th>Health (Life Expectancy)</th>\n",
       "      <th>Freedom</th>\n",
       "      <th>Trust (Government Corruption)</th>\n",
       "      <th>Generosity</th>\n",
       "      <th>Dystopia Residual</th>\n",
       "    </tr>\n",
       "  </thead>\n",
       "  <tbody>\n",
       "    <tr>\n",
       "      <th>0</th>\n",
       "      <td>Switzerland</td>\n",
       "      <td>7892502</td>\n",
       "      <td>1073</td>\n",
       "      <td>164.66</td>\n",
       "      <td>6.792892e+11</td>\n",
       "      <td>86068</td>\n",
       "      <td>Western Europe</td>\n",
       "      <td>1.0</td>\n",
       "      <td>7.587</td>\n",
       "      <td>1.39651</td>\n",
       "      <td>1.34951</td>\n",
       "      <td>0.94143</td>\n",
       "      <td>0.66557</td>\n",
       "      <td>0.41978</td>\n",
       "      <td>0.29678</td>\n",
       "      <td>2.51738</td>\n",
       "    </tr>\n",
       "    <tr>\n",
       "      <th>1</th>\n",
       "      <td>Iceland</td>\n",
       "      <td>308554</td>\n",
       "      <td>40</td>\n",
       "      <td>140.65</td>\n",
       "      <td>1.694225e+10</td>\n",
       "      <td>54909</td>\n",
       "      <td>Western Europe</td>\n",
       "      <td>2.0</td>\n",
       "      <td>7.561</td>\n",
       "      <td>1.30232</td>\n",
       "      <td>1.40223</td>\n",
       "      <td>0.94784</td>\n",
       "      <td>0.62877</td>\n",
       "      <td>0.14145</td>\n",
       "      <td>0.43630</td>\n",
       "      <td>2.70201</td>\n",
       "    </tr>\n",
       "  </tbody>\n",
       "</table>\n",
       "</div>"
      ],
      "text/plain": [
       "       country  Population  Total Number of Suicides  \\\n",
       "0  Switzerland     7892502                      1073   \n",
       "1      Iceland      308554                        40   \n",
       "\n",
       "   Number of Suicides per 100K Population  GDP for 2015  GDP per Capita  \\\n",
       "0                                  164.66  6.792892e+11           86068   \n",
       "1                                  140.65  1.694225e+10           54909   \n",
       "\n",
       "           region  happiness rank  happiness score  economy (GDP per Capita)  \\\n",
       "0  Western Europe             1.0            7.587                   1.39651   \n",
       "1  Western Europe             2.0            7.561                   1.30232   \n",
       "\n",
       "    Family  Health (Life Expectancy)  Freedom  Trust (Government Corruption)  \\\n",
       "0  1.34951                   0.94143  0.66557                        0.41978   \n",
       "1  1.40223                   0.94784  0.62877                        0.14145   \n",
       "\n",
       "   Generosity  Dystopia Residual  \n",
       "0     0.29678            2.51738  \n",
       "1     0.43630            2.70201  "
      ]
     },
     "execution_count": 132,
     "metadata": {},
     "output_type": "execute_result"
    }
   ],
   "source": [
    "df3.head(2)"
   ]
  },
  {
   "cell_type": "code",
   "execution_count": null,
   "metadata": {},
   "outputs": [],
   "source": []
  },
  {
   "cell_type": "code",
   "execution_count": 139,
   "metadata": {},
   "outputs": [
    {
     "data": {
      "image/png": "[encoded data removed]",
      "text/plain": [
       "<Figure size 432x288 with 1 Axes>"
      ]
     },
     "metadata": {
      "needs_background": "light"
     },
     "output_type": "display_data"
    }
   ],
   "source": [
    "happiness = df3[\"happiness score\"]\n",
    "population = df3[\"Population\"]\n",
    "total_suicides = df3[\"Total Number of Suicides\"]\n",
    "suicides_per100 = df3[\"Number of Suicides per 100K Population\"]\n",
    "GDP_2015 = df3[\"GDP for 2015\"]\n",
    "GDP_capita = df3[\"GDP per Capita\"]\n",
    "family = df3[\"Family\"]\n",
    "health = df3[\"Health (Life Expectancy)\"]\n",
    "freedom = df3[\"Freedom\"]\n",
    "trust =df3[\"Trust (Government Corruption)\"]\n",
    "generosity = df3[\"Generosity\"]\n",
    "\n",
    "corr_population = round(st.pearsonr(happiness,population)[0],2)\n",
    "corr_total_suicides=round(st.pearsonr(happiness,total_suicides)[0],2)\n",
    "corr_suicides_per100=round(st.pearsonr(happiness,suicides_per100)[0],2)\n",
    "corr_GDP_2015=round(st.pearsonr(happiness,GDP_2015)[0],2)\n",
    "corr_GDP_capita=round(st.pearsonr(happiness,GDP_capita)[0],2)\n",
    "corr_family=round(st.pearsonr(happiness,family)[0],2)\n",
    "corr_health=round(st.pearsonr(happiness,health)[0],2)\n",
    "corr_freedom=round(st.pearsonr(happiness,freedom)[0],2)\n",
    "corr_trust=round(st.pearsonr(happiness,trust)[0],2)\n",
    "corr_generosity=round(st.pearsonr(happiness,generosity)[0],2)\n",
    "\n",
    "corr_list = [corr_population, corr_total_suicides, corr_suicides_per100, corr_GDP_2015, corr_GDP_capita, corr_family, corr_health, corr_freedom,\n",
    "            corr_trust, corr_generosity]\n",
    "\n",
    "values = [\"population\", \"total_suicides\", \"suicides_per100\",\n",
    "         \"GDP_2015\", \"GDP_capita\", \"family\", \"health\", \"freedom\", \"trust\",\n",
    "         \"generosity\"]\n",
    "\n",
    "plt.bar(values,corr_list, color='red', alpha=0.5, align='center')\n",
    "plt.xticks(values, rotation='90')\n",
    "plt.tight_layout\n",
    "\n",
    "plt.title(\"Correlation between Happiness and all other Predictors\")\n",
    "plt.xlabel(\"Happiness Score\")\n",
    "plt.ylabel(\"Correlation\")\n",
    "plt.show()"
   ]
  },
  {
   "cell_type": "code",
   "execution_count": null,
   "metadata": {},
   "outputs": [],
   "source": []
  },
  {
   "cell_type": "code",
   "execution_count": null,
   "metadata": {},
   "outputs": [],
   "source": []
  },
  {
   "cell_type": "code",
   "execution_count": null,
   "metadata": {},
   "outputs": [],
   "source": []
  },
  {
   "cell_type": "code",
   "execution_count": null,
   "metadata": {},
   "outputs": [],
   "source": []
  },
  {
   "cell_type": "code",
   "execution_count": null,
   "metadata": {},
   "outputs": [],
   "source": []
  },
  {
   "cell_type": "code",
   "execution_count": null,
   "metadata": {},
   "outputs": [],
   "source": []
  },
  {
   "cell_type": "code",
   "execution_count": null,
   "metadata": {},
   "outputs": [],
   "source": []
  },
  {
   "cell_type": "code",
   "execution_count": null,
   "metadata": {},
   "outputs": [],
   "source": []
  },
  {
   "cell_type": "code",
   "execution_count": null,
   "metadata": {},
   "outputs": [],
   "source": []
  },
  {
   "cell_type": "code",
   "execution_count": null,
   "metadata": {},
   "outputs": [],
   "source": []
  },
  {
   "cell_type": "code",
   "execution_count": null,
   "metadata": {},
   "outputs": [],
   "source": []
  },
  {
   "cell_type": "code",
   "execution_count": null,
   "metadata": {
    "scrolled": true
   },
   "outputs": [],
   "source": []
  },
  {
   "cell_type": "code",
   "execution_count": null,
   "metadata": {},
   "outputs": [],
   "source": []
  },
  {
   "cell_type": "code",
   "execution_count": null,
   "metadata": {},
   "outputs": [],
   "source": []
  },
  {
   "cell_type": "code",
   "execution_count": null,
   "metadata": {},
   "outputs": [],
   "source": []
  },
  {
   "cell_type": "code",
   "execution_count": null,
   "metadata": {},
   "outputs": [],
   "source": []
  },
  {
   "cell_type": "code",
   "execution_count": null,
   "metadata": {},
   "outputs": [],
   "source": []
  },
  {
   "cell_type": "code",
   "execution_count": null,
   "metadata": {},
   "outputs": [],
   "source": []
  },
  {
   "cell_type": "code",
   "execution_count": null,
   "metadata": {},
   "outputs": [],
   "source": []
  },
  {
   "cell_type": "code",
   "execution_count": null,
   "metadata": {},
   "outputs": [],
   "source": []
  },
  {
   "cell_type": "code",
   "execution_count": null,
   "metadata": {},
   "outputs": [],
   "source": []
  },
  {
   "cell_type": "code",
   "execution_count": null,
   "metadata": {},
   "outputs": [],
   "source": []
  },
  {
   "cell_type": "code",
   "execution_count": null,
   "metadata": {},
   "outputs": [],
   "source": []
  },
  {
   "cell_type": "code",
   "execution_count": null,
   "metadata": {},
   "outputs": [],
   "source": []
  },
  {
   "cell_type": "code",
   "execution_count": null,
   "metadata": {},
   "outputs": [],
   "source": []
  },
  {
   "cell_type": "code",
   "execution_count": null,
   "metadata": {},
   "outputs": [],
   "source": []
  },
  {
   "cell_type": "code",
   "execution_count": null,
   "metadata": {},
   "outputs": [],
   "source": []
  },
  {
   "cell_type": "code",
   "execution_count": null,
   "metadata": {},
   "outputs": [],
   "source": []
  },
  {
   "cell_type": "code",
   "execution_count": null,
   "metadata": {},
   "outputs": [],
   "source": []
  },
  {
   "cell_type": "code",
   "execution_count": null,
   "metadata": {},
   "outputs": [],
   "source": []
  },
  {
   "cell_type": "code",
   "execution_count": null,
   "metadata": {},
   "outputs": [],
   "source": []
  },
  {
   "cell_type": "code",
   "execution_count": null,
   "metadata": {},
   "outputs": [],
   "source": []
  },
  {
   "cell_type": "code",
   "execution_count": null,
   "metadata": {},
   "outputs": [],
   "source": []
  },
  {
   "cell_type": "code",
   "execution_count": null,
   "metadata": {},
   "outputs": [],
   "source": []
  },
  {
   "cell_type": "code",
   "execution_count": null,
   "metadata": {},
   "outputs": [],
   "source": []
  }
 ],
 "metadata": {
  "kernelspec": {
   "display_name": "Python 3",
   "language": "python",
   "name": "python3"
  },
  "language_info": {
   "codemirror_mode": {
    "name": "ipython",
    "version": 3
   },
   "file_extension": ".py",
   "mimetype": "text/x-python",
   "name": "python",
   "nbconvert_exporter": "python",
   "pygments_lexer": "ipython3",
   "version": "3.7.6"
  }
 },
 "nbformat": 4,
 "nbformat_minor": 4
}
